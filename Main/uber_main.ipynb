{
 "cells": [
  {
   "cell_type": "code",
   "execution_count": 85,
   "metadata": {},
   "outputs": [],
   "source": [
    "%matplotlib inline"
   ]
  },
  {
   "cell_type": "code",
   "execution_count": 86,
   "metadata": {},
   "outputs": [],
   "source": [
    "# Import Dependencies\n",
    "import json\n",
    "import requests\n",
    "import matplotlib.pyplot as plt\n",
    "from pathlib import Path\n",
    "import pandas as pd\n",
    "import numpy as np\n",
    "import scipy.stats as st\n"
   ]
  },
  {
   "cell_type": "code",
   "execution_count": 87,
   "metadata": {},
   "outputs": [
    {
     "data": {
      "text/html": [
       "<div>\n",
       "<style scoped>\n",
       "    .dataframe tbody tr th:only-of-type {\n",
       "        vertical-align: middle;\n",
       "    }\n",
       "\n",
       "    .dataframe tbody tr th {\n",
       "        vertical-align: top;\n",
       "    }\n",
       "\n",
       "    .dataframe thead th {\n",
       "        text-align: right;\n",
       "    }\n",
       "</style>\n",
       "<table border=\"1\" class=\"dataframe\">\n",
       "  <thead>\n",
       "    <tr style=\"text-align: right;\">\n",
       "      <th></th>\n",
       "      <th>pickup_dt</th>\n",
       "      <th>borough</th>\n",
       "      <th>pickups</th>\n",
       "      <th>spd</th>\n",
       "      <th>vsb</th>\n",
       "      <th>temp</th>\n",
       "      <th>dewp</th>\n",
       "      <th>slp</th>\n",
       "      <th>pcp01</th>\n",
       "      <th>pcp06</th>\n",
       "      <th>pcp24</th>\n",
       "      <th>sd</th>\n",
       "      <th>hday</th>\n",
       "    </tr>\n",
       "  </thead>\n",
       "  <tbody>\n",
       "    <tr>\n",
       "      <th>0</th>\n",
       "      <td>1/1/2015 1:00</td>\n",
       "      <td>Bronx</td>\n",
       "      <td>152</td>\n",
       "      <td>5.0</td>\n",
       "      <td>10.0</td>\n",
       "      <td>30.0</td>\n",
       "      <td>7.0</td>\n",
       "      <td>1023.5</td>\n",
       "      <td>0.0</td>\n",
       "      <td>0.0</td>\n",
       "      <td>0.0</td>\n",
       "      <td>0.0</td>\n",
       "      <td>Y</td>\n",
       "    </tr>\n",
       "    <tr>\n",
       "      <th>1</th>\n",
       "      <td>1/1/2015 1:00</td>\n",
       "      <td>Brooklyn</td>\n",
       "      <td>1519</td>\n",
       "      <td>5.0</td>\n",
       "      <td>10.0</td>\n",
       "      <td>30.0</td>\n",
       "      <td>7.0</td>\n",
       "      <td>1023.5</td>\n",
       "      <td>0.0</td>\n",
       "      <td>0.0</td>\n",
       "      <td>0.0</td>\n",
       "      <td>0.0</td>\n",
       "      <td>Y</td>\n",
       "    </tr>\n",
       "    <tr>\n",
       "      <th>2</th>\n",
       "      <td>1/1/2015 1:00</td>\n",
       "      <td>EWR</td>\n",
       "      <td>0</td>\n",
       "      <td>5.0</td>\n",
       "      <td>10.0</td>\n",
       "      <td>30.0</td>\n",
       "      <td>7.0</td>\n",
       "      <td>1023.5</td>\n",
       "      <td>0.0</td>\n",
       "      <td>0.0</td>\n",
       "      <td>0.0</td>\n",
       "      <td>0.0</td>\n",
       "      <td>Y</td>\n",
       "    </tr>\n",
       "    <tr>\n",
       "      <th>3</th>\n",
       "      <td>1/1/2015 1:00</td>\n",
       "      <td>Manhattan</td>\n",
       "      <td>5258</td>\n",
       "      <td>5.0</td>\n",
       "      <td>10.0</td>\n",
       "      <td>30.0</td>\n",
       "      <td>7.0</td>\n",
       "      <td>1023.5</td>\n",
       "      <td>0.0</td>\n",
       "      <td>0.0</td>\n",
       "      <td>0.0</td>\n",
       "      <td>0.0</td>\n",
       "      <td>Y</td>\n",
       "    </tr>\n",
       "    <tr>\n",
       "      <th>4</th>\n",
       "      <td>1/1/2015 1:00</td>\n",
       "      <td>Queens</td>\n",
       "      <td>405</td>\n",
       "      <td>5.0</td>\n",
       "      <td>10.0</td>\n",
       "      <td>30.0</td>\n",
       "      <td>7.0</td>\n",
       "      <td>1023.5</td>\n",
       "      <td>0.0</td>\n",
       "      <td>0.0</td>\n",
       "      <td>0.0</td>\n",
       "      <td>0.0</td>\n",
       "      <td>Y</td>\n",
       "    </tr>\n",
       "  </tbody>\n",
       "</table>\n",
       "</div>"
      ],
      "text/plain": [
       "       pickup_dt    borough  pickups  spd   vsb  temp  dewp     slp  pcp01  \\\n",
       "0  1/1/2015 1:00      Bronx      152  5.0  10.0  30.0   7.0  1023.5    0.0   \n",
       "1  1/1/2015 1:00   Brooklyn     1519  5.0  10.0  30.0   7.0  1023.5    0.0   \n",
       "2  1/1/2015 1:00        EWR        0  5.0  10.0  30.0   7.0  1023.5    0.0   \n",
       "3  1/1/2015 1:00  Manhattan     5258  5.0  10.0  30.0   7.0  1023.5    0.0   \n",
       "4  1/1/2015 1:00     Queens      405  5.0  10.0  30.0   7.0  1023.5    0.0   \n",
       "\n",
       "   pcp06  pcp24   sd hday  \n",
       "0    0.0    0.0  0.0    Y  \n",
       "1    0.0    0.0  0.0    Y  \n",
       "2    0.0    0.0  0.0    Y  \n",
       "3    0.0    0.0  0.0    Y  \n",
       "4    0.0    0.0  0.0    Y  "
      ]
     },
     "execution_count": 87,
     "metadata": {},
     "output_type": "execute_result"
    }
   ],
   "source": [
    "# Import csv file and make DataFrame\n",
    "uber_data = Path(\"../Resources/Uber_Project_CSV.csv\")\n",
    "uber_df = pd.read_csv(uber_data)\n",
    "uber_df.head()"
   ]
  },
  {
   "cell_type": "code",
   "execution_count": 88,
   "metadata": {},
   "outputs": [
    {
     "data": {
      "text/html": [
       "<div>\n",
       "<style scoped>\n",
       "    .dataframe tbody tr th:only-of-type {\n",
       "        vertical-align: middle;\n",
       "    }\n",
       "\n",
       "    .dataframe tbody tr th {\n",
       "        vertical-align: top;\n",
       "    }\n",
       "\n",
       "    .dataframe thead th {\n",
       "        text-align: right;\n",
       "    }\n",
       "</style>\n",
       "<table border=\"1\" class=\"dataframe\">\n",
       "  <thead>\n",
       "    <tr style=\"text-align: right;\">\n",
       "      <th></th>\n",
       "      <th>name</th>\n",
       "      <th>datetime</th>\n",
       "      <th>tempmax</th>\n",
       "      <th>tempmin</th>\n",
       "      <th>temp</th>\n",
       "      <th>feelslikemax</th>\n",
       "      <th>feelslikemin</th>\n",
       "      <th>feelslike</th>\n",
       "      <th>dew</th>\n",
       "      <th>humidity</th>\n",
       "      <th>...</th>\n",
       "      <th>solarenergy</th>\n",
       "      <th>uvindex</th>\n",
       "      <th>severerisk</th>\n",
       "      <th>sunrise</th>\n",
       "      <th>sunset</th>\n",
       "      <th>moonphase</th>\n",
       "      <th>conditions</th>\n",
       "      <th>description</th>\n",
       "      <th>icon</th>\n",
       "      <th>stations</th>\n",
       "    </tr>\n",
       "  </thead>\n",
       "  <tbody>\n",
       "    <tr>\n",
       "      <th>0</th>\n",
       "      <td>new york city</td>\n",
       "      <td>1/1/2015</td>\n",
       "      <td>38.7</td>\n",
       "      <td>27.3</td>\n",
       "      <td>32.8</td>\n",
       "      <td>35.8</td>\n",
       "      <td>17.1</td>\n",
       "      <td>25.6</td>\n",
       "      <td>9.6</td>\n",
       "      <td>37.7</td>\n",
       "      <td>...</td>\n",
       "      <td>9.9</td>\n",
       "      <td>5</td>\n",
       "      <td>NaN</td>\n",
       "      <td>2015-01-01T07:20:09</td>\n",
       "      <td>2015-01-01T16:39:07</td>\n",
       "      <td>0.38</td>\n",
       "      <td>Clear</td>\n",
       "      <td>Clear conditions throughout the day.</td>\n",
       "      <td>clear-day</td>\n",
       "      <td>72505394728,KLGA,KNYC,72503014732</td>\n",
       "    </tr>\n",
       "    <tr>\n",
       "      <th>1</th>\n",
       "      <td>new york city</td>\n",
       "      <td>1/2/2015</td>\n",
       "      <td>42.2</td>\n",
       "      <td>36.0</td>\n",
       "      <td>38.6</td>\n",
       "      <td>36.5</td>\n",
       "      <td>28.1</td>\n",
       "      <td>32.2</td>\n",
       "      <td>16.8</td>\n",
       "      <td>41.0</td>\n",
       "      <td>...</td>\n",
       "      <td>9.5</td>\n",
       "      <td>5</td>\n",
       "      <td>NaN</td>\n",
       "      <td>2015-01-02T07:20:15</td>\n",
       "      <td>2015-01-02T16:39:58</td>\n",
       "      <td>0.41</td>\n",
       "      <td>Partially cloudy</td>\n",
       "      <td>Partly cloudy throughout the day.</td>\n",
       "      <td>partly-cloudy-day</td>\n",
       "      <td>72505394728,KLGA,KNYC,72503014732</td>\n",
       "    </tr>\n",
       "    <tr>\n",
       "      <th>2</th>\n",
       "      <td>new york city</td>\n",
       "      <td>1/3/2015</td>\n",
       "      <td>40.7</td>\n",
       "      <td>33.5</td>\n",
       "      <td>35.8</td>\n",
       "      <td>35.0</td>\n",
       "      <td>25.9</td>\n",
       "      <td>30.2</td>\n",
       "      <td>26.1</td>\n",
       "      <td>69.4</td>\n",
       "      <td>...</td>\n",
       "      <td>5.2</td>\n",
       "      <td>3</td>\n",
       "      <td>NaN</td>\n",
       "      <td>2015-01-03T07:20:19</td>\n",
       "      <td>2015-01-03T16:40:50</td>\n",
       "      <td>0.45</td>\n",
       "      <td>Snow, Rain, Partially cloudy</td>\n",
       "      <td>Partly cloudy throughout the day with rain or ...</td>\n",
       "      <td>rain</td>\n",
       "      <td>72505394728,KLGA,KNYC,72503014732</td>\n",
       "    </tr>\n",
       "    <tr>\n",
       "      <th>3</th>\n",
       "      <td>new york city</td>\n",
       "      <td>1/4/2015</td>\n",
       "      <td>55.4</td>\n",
       "      <td>41.0</td>\n",
       "      <td>48.2</td>\n",
       "      <td>55.4</td>\n",
       "      <td>36.6</td>\n",
       "      <td>46.6</td>\n",
       "      <td>44.6</td>\n",
       "      <td>87.4</td>\n",
       "      <td>...</td>\n",
       "      <td>3.8</td>\n",
       "      <td>3</td>\n",
       "      <td>NaN</td>\n",
       "      <td>2015-01-04T07:20:20</td>\n",
       "      <td>2015-01-04T16:41:44</td>\n",
       "      <td>0.50</td>\n",
       "      <td>Rain, Overcast</td>\n",
       "      <td>Cloudy skies throughout the day with rain.</td>\n",
       "      <td>rain</td>\n",
       "      <td>72505394728,KLGA,KNYC,72503014732</td>\n",
       "    </tr>\n",
       "    <tr>\n",
       "      <th>4</th>\n",
       "      <td>new york city</td>\n",
       "      <td>1/5/2015</td>\n",
       "      <td>50.3</td>\n",
       "      <td>21.8</td>\n",
       "      <td>36.3</td>\n",
       "      <td>50.3</td>\n",
       "      <td>11.4</td>\n",
       "      <td>27.8</td>\n",
       "      <td>12.2</td>\n",
       "      <td>37.1</td>\n",
       "      <td>...</td>\n",
       "      <td>9.9</td>\n",
       "      <td>5</td>\n",
       "      <td>NaN</td>\n",
       "      <td>2015-01-05T07:20:19</td>\n",
       "      <td>2015-01-05T16:42:40</td>\n",
       "      <td>0.52</td>\n",
       "      <td>Partially cloudy</td>\n",
       "      <td>Partly cloudy throughout the day.</td>\n",
       "      <td>partly-cloudy-day</td>\n",
       "      <td>72505394728,KLGA,KNYC,72503014732</td>\n",
       "    </tr>\n",
       "  </tbody>\n",
       "</table>\n",
       "<p>5 rows × 33 columns</p>\n",
       "</div>"
      ],
      "text/plain": [
       "            name  datetime  tempmax  tempmin  temp  feelslikemax  \\\n",
       "0  new york city  1/1/2015     38.7     27.3  32.8          35.8   \n",
       "1  new york city  1/2/2015     42.2     36.0  38.6          36.5   \n",
       "2  new york city  1/3/2015     40.7     33.5  35.8          35.0   \n",
       "3  new york city  1/4/2015     55.4     41.0  48.2          55.4   \n",
       "4  new york city  1/5/2015     50.3     21.8  36.3          50.3   \n",
       "\n",
       "   feelslikemin  feelslike   dew  humidity  ...  solarenergy  uvindex  \\\n",
       "0          17.1       25.6   9.6      37.7  ...          9.9        5   \n",
       "1          28.1       32.2  16.8      41.0  ...          9.5        5   \n",
       "2          25.9       30.2  26.1      69.4  ...          5.2        3   \n",
       "3          36.6       46.6  44.6      87.4  ...          3.8        3   \n",
       "4          11.4       27.8  12.2      37.1  ...          9.9        5   \n",
       "\n",
       "   severerisk              sunrise               sunset  moonphase  \\\n",
       "0         NaN  2015-01-01T07:20:09  2015-01-01T16:39:07       0.38   \n",
       "1         NaN  2015-01-02T07:20:15  2015-01-02T16:39:58       0.41   \n",
       "2         NaN  2015-01-03T07:20:19  2015-01-03T16:40:50       0.45   \n",
       "3         NaN  2015-01-04T07:20:20  2015-01-04T16:41:44       0.50   \n",
       "4         NaN  2015-01-05T07:20:19  2015-01-05T16:42:40       0.52   \n",
       "\n",
       "                     conditions  \\\n",
       "0                         Clear   \n",
       "1              Partially cloudy   \n",
       "2  Snow, Rain, Partially cloudy   \n",
       "3                Rain, Overcast   \n",
       "4              Partially cloudy   \n",
       "\n",
       "                                         description               icon  \\\n",
       "0               Clear conditions throughout the day.          clear-day   \n",
       "1                  Partly cloudy throughout the day.  partly-cloudy-day   \n",
       "2  Partly cloudy throughout the day with rain or ...               rain   \n",
       "3         Cloudy skies throughout the day with rain.               rain   \n",
       "4                  Partly cloudy throughout the day.  partly-cloudy-day   \n",
       "\n",
       "                            stations  \n",
       "0  72505394728,KLGA,KNYC,72503014732  \n",
       "1  72505394728,KLGA,KNYC,72503014732  \n",
       "2  72505394728,KLGA,KNYC,72503014732  \n",
       "3  72505394728,KLGA,KNYC,72503014732  \n",
       "4  72505394728,KLGA,KNYC,72503014732  \n",
       "\n",
       "[5 rows x 33 columns]"
      ]
     },
     "execution_count": 88,
     "metadata": {},
     "output_type": "execute_result"
    }
   ],
   "source": [
    "#Import URL and API CSV file\n",
    "url = \"https://weather.visualcrossing.com/VisualCrossingWebServices/rest/services/timeline/new%2520york%2520city/2015-01-01/2015-06-30?elements=datetime%2CdatetimeEpoch%2Ctemp%2Ctempmax%2Ctempmin%2Cprecip%2Cwindspeed%2Cwindgust%2Cfeelslike%2Cfeelslikemax%2Cfeelslikemin%2Cpressure%2Cstations%2Cdegreedays%2Caccdegreedays&include=fcst%2Cobs%2Chistfcst%2Cstats%2Chours&key=9R8U63UTPUJVYD92WRCVMZZXB&options=preview&contentType=json\"\n",
    "weather_api = Path(\"../Resources/NYC_Weather_API_data.csv\")\n",
    "weather_df= pd.read_csv(weather_api)\n",
    "weather_df.head()\n"
   ]
  },
  {
   "cell_type": "code",
   "execution_count": 89,
   "metadata": {},
   "outputs": [
    {
     "data": {
      "text/html": [
       "<div>\n",
       "<style scoped>\n",
       "    .dataframe tbody tr th:only-of-type {\n",
       "        vertical-align: middle;\n",
       "    }\n",
       "\n",
       "    .dataframe tbody tr th {\n",
       "        vertical-align: top;\n",
       "    }\n",
       "\n",
       "    .dataframe thead th {\n",
       "        text-align: right;\n",
       "    }\n",
       "</style>\n",
       "<table border=\"1\" class=\"dataframe\">\n",
       "  <thead>\n",
       "    <tr style=\"text-align: right;\">\n",
       "      <th></th>\n",
       "      <th>pickups</th>\n",
       "    </tr>\n",
       "    <tr>\n",
       "      <th>borough</th>\n",
       "      <th></th>\n",
       "    </tr>\n",
       "  </thead>\n",
       "  <tbody>\n",
       "    <tr>\n",
       "      <th>Bronx</th>\n",
       "      <td>8584</td>\n",
       "    </tr>\n",
       "    <tr>\n",
       "      <th>Brooklyn</th>\n",
       "      <td>94105</td>\n",
       "    </tr>\n",
       "    <tr>\n",
       "      <th>EWR</th>\n",
       "      <td>1</td>\n",
       "    </tr>\n",
       "    <tr>\n",
       "      <th>Manhattan</th>\n",
       "      <td>447622</td>\n",
       "    </tr>\n",
       "    <tr>\n",
       "      <th>Queens</th>\n",
       "      <td>53488</td>\n",
       "    </tr>\n",
       "    <tr>\n",
       "      <th>Staten Island</th>\n",
       "      <td>275</td>\n",
       "    </tr>\n",
       "  </tbody>\n",
       "</table>\n",
       "</div>"
      ],
      "text/plain": [
       "               pickups\n",
       "borough               \n",
       "Bronx             8584\n",
       "Brooklyn         94105\n",
       "EWR                  1\n",
       "Manhattan       447622\n",
       "Queens           53488\n",
       "Staten Island      275"
      ]
     },
     "execution_count": 89,
     "metadata": {},
     "output_type": "execute_result"
    }
   ],
   "source": [
    "#Isolate short rain pickups\n",
    "rain_data_df = uber_df[[\"pickup_dt\",\"borough\", \"pickups\", \"pcp01\", \"pcp06\", \"pcp24\"]]\n",
    "short_rain_df = rain_data_df[(rain_data_df[\"pcp01\"] > 0) & (rain_data_df[\"pcp06\"] == 0) & (rain_data_df[\"pcp24\"] == 0)]\n",
    "short_rain_chart_df =short_rain_df[[\"pickup_dt\", \"borough\", \"pickups\"]]\n",
    "short_rain_chart_df = short_rain_chart_df.groupby(\"borough\").agg({\"pickups\":\"sum\"}).reindex()\n",
    "short_rain_chart_df"
   ]
  },
  {
   "cell_type": "code",
   "execution_count": 90,
   "metadata": {},
   "outputs": [
    {
     "data": {
      "text/plain": [
       "15495"
      ]
     },
     "execution_count": 90,
     "metadata": {},
     "output_type": "execute_result"
    }
   ],
   "source": [
    "#Find total and average pickups for short rain\n",
    "short_rain_df = short_rain_df.astype({\"pickup_dt\":\"datetime64[D]\"})\n",
    "avg_short_rain = short_rain_df.groupby(\"pickup_dt\").agg({\"pickups\": \"sum\"}).reindex()\n",
    "days_of_short_rain = avg_short_rain.count()\n",
    "total_short_rain = sum(avg_short_rain[\"pickups\"])\n",
    "avg_short_rain_total = total_short_rain/days_of_short_rain\n",
    "avg_short_rain_total = int(avg_short_rain_total.round(2))\n",
    "avg_short_rain_total"
   ]
  },
  {
   "cell_type": "code",
   "execution_count": 91,
   "metadata": {},
   "outputs": [
    {
     "data": {
      "text/html": [
       "<div>\n",
       "<style scoped>\n",
       "    .dataframe tbody tr th:only-of-type {\n",
       "        vertical-align: middle;\n",
       "    }\n",
       "\n",
       "    .dataframe tbody tr th {\n",
       "        vertical-align: top;\n",
       "    }\n",
       "\n",
       "    .dataframe thead th {\n",
       "        text-align: right;\n",
       "    }\n",
       "</style>\n",
       "<table border=\"1\" class=\"dataframe\">\n",
       "  <thead>\n",
       "    <tr style=\"text-align: right;\">\n",
       "      <th></th>\n",
       "      <th>pickups</th>\n",
       "    </tr>\n",
       "    <tr>\n",
       "      <th>borough</th>\n",
       "      <th></th>\n",
       "    </tr>\n",
       "  </thead>\n",
       "  <tbody>\n",
       "    <tr>\n",
       "      <th>Bronx</th>\n",
       "      <td>21022</td>\n",
       "    </tr>\n",
       "    <tr>\n",
       "      <th>Brooklyn</th>\n",
       "      <td>234293</td>\n",
       "    </tr>\n",
       "    <tr>\n",
       "      <th>EWR</th>\n",
       "      <td>5</td>\n",
       "    </tr>\n",
       "    <tr>\n",
       "      <th>Manhattan</th>\n",
       "      <td>917997</td>\n",
       "    </tr>\n",
       "    <tr>\n",
       "      <th>Queens</th>\n",
       "      <td>130854</td>\n",
       "    </tr>\n",
       "    <tr>\n",
       "      <th>Staten Island</th>\n",
       "      <td>681</td>\n",
       "    </tr>\n",
       "  </tbody>\n",
       "</table>\n",
       "</div>"
      ],
      "text/plain": [
       "               pickups\n",
       "borough               \n",
       "Bronx            21022\n",
       "Brooklyn        234293\n",
       "EWR                  5\n",
       "Manhattan       917997\n",
       "Queens          130854\n",
       "Staten Island      681"
      ]
     },
     "execution_count": 91,
     "metadata": {},
     "output_type": "execute_result"
    }
   ],
   "source": [
    "#Isolate medium rain pickups\n",
    "medium_rain_df = rain_data_df[(rain_data_df[\"pcp06\"] > 0) & (rain_data_df[\"pcp01\"] == 0) & (rain_data_df[\"pcp24\"] == 0)]\n",
    "medium_rain_chart_df = medium_rain_df[[\"borough\", \"pickups\"]]\n",
    "medium_rain_chart_df = medium_rain_chart_df.groupby(\"borough\").agg({\"pickups\":\"sum\"}).reindex()\n",
    "medium_rain_chart_df"
   ]
  },
  {
   "cell_type": "code",
   "execution_count": 92,
   "metadata": {},
   "outputs": [
    {
     "data": {
      "text/plain": [
       "20397"
      ]
     },
     "execution_count": 92,
     "metadata": {},
     "output_type": "execute_result"
    }
   ],
   "source": [
    "#Find total and average pickups for medium rain\n",
    "medium_rain_df = medium_rain_df.astype({\"pickup_dt\":\"datetime64[D]\"})\n",
    "avg_medium_rain = medium_rain_df.groupby(\"pickup_dt\").agg({\"pickups\": \"sum\"}).reindex()\n",
    "days_of_medium_rain = avg_medium_rain.count()\n",
    "total_medium_rain = sum(avg_medium_rain[\"pickups\"])\n",
    "avg_medium_rain_total = total_medium_rain/days_of_medium_rain\n",
    "avg_medium_rain_total = int(avg_medium_rain_total.round(2))\n",
    "avg_medium_rain_total"
   ]
  },
  {
   "cell_type": "code",
   "execution_count": 93,
   "metadata": {},
   "outputs": [
    {
     "data": {
      "text/html": [
       "<div>\n",
       "<style scoped>\n",
       "    .dataframe tbody tr th:only-of-type {\n",
       "        vertical-align: middle;\n",
       "    }\n",
       "\n",
       "    .dataframe tbody tr th {\n",
       "        vertical-align: top;\n",
       "    }\n",
       "\n",
       "    .dataframe thead th {\n",
       "        text-align: right;\n",
       "    }\n",
       "</style>\n",
       "<table border=\"1\" class=\"dataframe\">\n",
       "  <thead>\n",
       "    <tr style=\"text-align: right;\">\n",
       "      <th></th>\n",
       "      <th>pickups</th>\n",
       "    </tr>\n",
       "    <tr>\n",
       "      <th>borough</th>\n",
       "      <th></th>\n",
       "    </tr>\n",
       "  </thead>\n",
       "  <tbody>\n",
       "    <tr>\n",
       "      <th>Bronx</th>\n",
       "      <td>50038</td>\n",
       "    </tr>\n",
       "    <tr>\n",
       "      <th>Brooklyn</th>\n",
       "      <td>514271</td>\n",
       "    </tr>\n",
       "    <tr>\n",
       "      <th>EWR</th>\n",
       "      <td>31</td>\n",
       "    </tr>\n",
       "    <tr>\n",
       "      <th>Manhattan</th>\n",
       "      <td>2433263</td>\n",
       "    </tr>\n",
       "    <tr>\n",
       "      <th>Queens</th>\n",
       "      <td>318784</td>\n",
       "    </tr>\n",
       "    <tr>\n",
       "      <th>Staten Island</th>\n",
       "      <td>1513</td>\n",
       "    </tr>\n",
       "  </tbody>\n",
       "</table>\n",
       "</div>"
      ],
      "text/plain": [
       "               pickups\n",
       "borough               \n",
       "Bronx            50038\n",
       "Brooklyn        514271\n",
       "EWR                 31\n",
       "Manhattan      2433263\n",
       "Queens          318784\n",
       "Staten Island     1513"
      ]
     },
     "execution_count": 93,
     "metadata": {},
     "output_type": "execute_result"
    }
   ],
   "source": [
    "#ISolate heavy rain pickups\n",
    "heavy_rain_df = rain_data_df[(rain_data_df[\"pcp24\"] > 0) & (rain_data_df[\"pcp01\"] == 0) & (rain_data_df[\"pcp06\"] == 0)]\n",
    "heavy_rain_chart_df = heavy_rain_df[[\"borough\", \"pickups\",\"pcp24\"]]\n",
    "heavy_rain_chart_df = heavy_rain_chart_df.groupby(\"borough\").agg({\"pickups\":\"sum\"}).reindex()\n",
    "heavy_rain_chart_df"
   ]
  },
  {
   "cell_type": "code",
   "execution_count": 94,
   "metadata": {},
   "outputs": [
    {
     "data": {
      "text/plain": [
       "29638"
      ]
     },
     "execution_count": 94,
     "metadata": {},
     "output_type": "execute_result"
    }
   ],
   "source": [
    "#Find total pickups and average pickups for heavy rain\n",
    "heavy_rain_df = heavy_rain_df.astype({\"pickup_dt\":\"datetime64[D]\"})\n",
    "avg_heavy_rain = heavy_rain_df.groupby(\"pickup_dt\").agg({\"pickups\": \"sum\"}).reindex()\n",
    "days_of_heavy_rain = avg_heavy_rain.count()\n",
    "total_heavy_rain = sum(avg_heavy_rain[\"pickups\"])\n",
    "avg_heavy_rain_total = total_heavy_rain/days_of_heavy_rain\n",
    "avg_heavy_rain_total = int(avg_heavy_rain_total.round(0))\n",
    "avg_heavy_rain_total"
   ]
  },
  {
   "cell_type": "code",
   "execution_count": 95,
   "metadata": {},
   "outputs": [
    {
     "data": {
      "text/html": [
       "<div>\n",
       "<style scoped>\n",
       "    .dataframe tbody tr th:only-of-type {\n",
       "        vertical-align: middle;\n",
       "    }\n",
       "\n",
       "    .dataframe tbody tr th {\n",
       "        vertical-align: top;\n",
       "    }\n",
       "\n",
       "    .dataframe thead th {\n",
       "        text-align: right;\n",
       "    }\n",
       "</style>\n",
       "<table border=\"1\" class=\"dataframe\">\n",
       "  <thead>\n",
       "    <tr style=\"text-align: right;\">\n",
       "      <th></th>\n",
       "      <th>pickups</th>\n",
       "    </tr>\n",
       "    <tr>\n",
       "      <th>borough</th>\n",
       "      <th></th>\n",
       "    </tr>\n",
       "  </thead>\n",
       "  <tbody>\n",
       "    <tr>\n",
       "      <th>Bronx</th>\n",
       "      <td>53225</td>\n",
       "    </tr>\n",
       "    <tr>\n",
       "      <th>Brooklyn</th>\n",
       "      <td>623687</td>\n",
       "    </tr>\n",
       "    <tr>\n",
       "      <th>EWR</th>\n",
       "      <td>27</td>\n",
       "    </tr>\n",
       "    <tr>\n",
       "      <th>Manhattan</th>\n",
       "      <td>3149007</td>\n",
       "    </tr>\n",
       "    <tr>\n",
       "      <th>Queens</th>\n",
       "      <td>351742</td>\n",
       "    </tr>\n",
       "    <tr>\n",
       "      <th>Staten Island</th>\n",
       "      <td>1643</td>\n",
       "    </tr>\n",
       "  </tbody>\n",
       "</table>\n",
       "</div>"
      ],
      "text/plain": [
       "               pickups\n",
       "borough               \n",
       "Bronx            53225\n",
       "Brooklyn        623687\n",
       "EWR                 27\n",
       "Manhattan      3149007\n",
       "Queens          351742\n",
       "Staten Island     1643"
      ]
     },
     "execution_count": 95,
     "metadata": {},
     "output_type": "execute_result"
    }
   ],
   "source": [
    "#Isolate snow pickups\n",
    "snow_data_df = uber_df[[\"pickup_dt\", \"borough\", \"pickups\", \"sd\"]]\n",
    "snow_df = snow_data_df[(snow_data_df[\"sd\"] > 0)]\n",
    "snow_chart_df = snow_df[[\"borough\", \"pickups\",]]\n",
    "snow_chart_df = snow_chart_df.groupby(\"borough\").agg({\"pickups\":\"sum\"}).reindex()\n",
    "snow_chart_df\n"
   ]
  },
  {
   "cell_type": "code",
   "execution_count": 96,
   "metadata": {},
   "outputs": [
    {
     "data": {
      "text/plain": [
       "70864"
      ]
     },
     "execution_count": 96,
     "metadata": {},
     "output_type": "execute_result"
    }
   ],
   "source": [
    "# Find the total and average snow pickups\n",
    "snow_df = snow_df.astype({\"pickup_dt\":\"datetime64[D]\"})\n",
    "avg_snow = snow_df.groupby(\"pickup_dt\").agg({\"pickups\": \"sum\"}).reindex()\n",
    "days_of_snow = avg_snow.count()\n",
    "total_snow = sum(avg_snow[\"pickups\"])\n",
    "avg_snow_total = total_snow/days_of_snow\n",
    "avg_snow_total = int(avg_snow_total.round(0))\n",
    "avg_snow_total"
   ]
  },
  {
   "cell_type": "code",
   "execution_count": 97,
   "metadata": {},
   "outputs": [
    {
     "data": {
      "text/html": [
       "<div>\n",
       "<style scoped>\n",
       "    .dataframe tbody tr th:only-of-type {\n",
       "        vertical-align: middle;\n",
       "    }\n",
       "\n",
       "    .dataframe tbody tr th {\n",
       "        vertical-align: top;\n",
       "    }\n",
       "\n",
       "    .dataframe thead th {\n",
       "        text-align: right;\n",
       "    }\n",
       "</style>\n",
       "<table border=\"1\" class=\"dataframe\">\n",
       "  <thead>\n",
       "    <tr style=\"text-align: right;\">\n",
       "      <th></th>\n",
       "      <th>pickups</th>\n",
       "    </tr>\n",
       "    <tr>\n",
       "      <th>borough</th>\n",
       "      <th></th>\n",
       "    </tr>\n",
       "  </thead>\n",
       "  <tbody>\n",
       "    <tr>\n",
       "      <th>Bronx</th>\n",
       "      <td>92588</td>\n",
       "    </tr>\n",
       "    <tr>\n",
       "      <th>Brooklyn</th>\n",
       "      <td>925314</td>\n",
       "    </tr>\n",
       "    <tr>\n",
       "      <th>EWR</th>\n",
       "      <td>39</td>\n",
       "    </tr>\n",
       "    <tr>\n",
       "      <th>Manhattan</th>\n",
       "      <td>3907896</td>\n",
       "    </tr>\n",
       "    <tr>\n",
       "      <th>Queens</th>\n",
       "      <td>530198</td>\n",
       "    </tr>\n",
       "    <tr>\n",
       "      <th>Staten Island</th>\n",
       "      <td>2971</td>\n",
       "    </tr>\n",
       "  </tbody>\n",
       "</table>\n",
       "</div>"
      ],
      "text/plain": [
       "               pickups\n",
       "borough               \n",
       "Bronx            92588\n",
       "Brooklyn        925314\n",
       "EWR                 39\n",
       "Manhattan      3907896\n",
       "Queens          530198\n",
       "Staten Island     2971"
      ]
     },
     "execution_count": 97,
     "metadata": {},
     "output_type": "execute_result"
    }
   ],
   "source": [
    "#Isolate pickups for no precipitation\n",
    "no_precipitation_data_df = uber_df[(uber_df[\"pcp01\"] == 0) & (uber_df[\"pcp06\"] == 0) & (uber_df[\"pcp24\"] == 0) & (uber_df[\"sd\"] == 0)]\n",
    "no_precipitation_chart_df = no_precipitation_data_df[[\"borough\", \"pickups\"]]\n",
    "no_precipitation_chart_df = no_precipitation_chart_df.groupby(\"borough\").agg({\"pickups\":\"sum\"}).reindex()\n",
    "no_precipitation_chart_df"
   ]
  },
  {
   "cell_type": "code",
   "execution_count": 98,
   "metadata": {},
   "outputs": [
    {
     "data": {
      "text/plain": [
       "47081"
      ]
     },
     "execution_count": 98,
     "metadata": {},
     "output_type": "execute_result"
    }
   ],
   "source": [
    "#Find the total and average pickups with no precipitation\n",
    "no_precipitation_data_df= no_precipitation_data_df.astype({\"pickup_dt\":\"datetime64[D]\"})\n",
    "avg_no_precipitation = no_precipitation_data_df.groupby(\"pickup_dt\").agg({\"pickups\": \"sum\"}).reindex()\n",
    "days_of_no_precipitation = avg_no_precipitation.count()\n",
    "total_no_precipitation = sum(avg_no_precipitation[\"pickups\"])\n",
    "avg_no_precipitation_total = total_no_precipitation/days_of_no_precipitation\n",
    "avg_no_precipitation_total = int(avg_no_precipitation_total.round(2))\n",
    "avg_no_precipitation_total"
   ]
  },
  {
   "cell_type": "code",
   "execution_count": 99,
   "metadata": {},
   "outputs": [
    {
     "data": {
      "image/png": "[encoded data removed]",
      "text/plain": [
       "<Figure size 1000x800 with 1 Axes>"
      ]
     },
     "metadata": {},
     "output_type": "display_data"
    }
   ],
   "source": [
    "#Create a data frame and bar chart that shows total pickups by different weather type\n",
    "total_weather = {\"Type of Weather\": [\"1 Hour Rain\", \"6 Hour Rain\", \"24 Hour Rain\", \"Snowy Weather\", \"No Precipitation\"],\n",
    "                  \"Total Pickups\": [total_short_rain, total_medium_rain, total_heavy_rain, total_snow, total_no_precipitation]\n",
    "                  }\n",
    "\n",
    "\n",
    "total_weather_df = pd.DataFrame(total_weather)\n",
    "\n",
    "x_axis = np.arange(len(total_weather_df))\n",
    "tick_locations = [value for value in x_axis]\n",
    "\n",
    "plt.figure(figsize=(10,8))\n",
    "plt.bar(x_axis, total_weather_df[\"Total Pickups\"], align=\"center\")\n",
    "plt.xticks(tick_locations, total_weather_df[\"Type of Weather\"], rotation=\"vertical\")\n",
    "plt.xlabel(\"Type of Weather\")\n",
    "plt.ylabel(\"Total Number of Pickups\")\n",
    "plt.show()\n",
    "\n"
   ]
  },
  {
   "cell_type": "code",
   "execution_count": 100,
   "metadata": {},
   "outputs": [
    {
     "data": {
      "image/png": "[encoded data removed]",
      "text/plain": [
       "<Figure size 1000x800 with 1 Axes>"
      ]
     },
     "metadata": {},
     "output_type": "display_data"
    }
   ],
   "source": [
    "#create a dataframe and bar chart that shows average pickups by different weather type\n",
    "avg_total_weather = {\"Type of Weather\": [\"1 Hour Rain\", \"6 Hour Rain\", \"24 Hour Rain\", \"Snowy Weather\", \"No Precipitation\"],\n",
    "                     \"Average Pickups\": [avg_short_rain_total, avg_medium_rain_total, avg_heavy_rain_total, avg_snow_total, avg_no_precipitation_total]\n",
    "\n",
    "}\n",
    "avg_weather_df = pd.DataFrame(avg_total_weather)\n",
    "\n",
    "x_axis = np.arange(len(avg_weather_df))\n",
    "tick_locations = [value for value in x_axis]\n",
    "\n",
    "plt.figure(figsize=(10, 8))\n",
    "plt.bar(x_axis, avg_weather_df[\"Average Pickups\"], align=\"center\")\n",
    "plt.xticks(tick_locations, avg_weather_df[\"Type of Weather\"], rotation =\"vertical\")\n",
    "plt.xlabel(\"Type of Weather\")\n",
    "plt.ylabel(\"Average Number of Pickups\")\n",
    "plt.title(\"Average Number of Pickups per Weather Type\")\n",
    "plt.show()\n"
   ]
  },
  {
   "cell_type": "code",
   "execution_count": 101,
   "metadata": {},
   "outputs": [
    {
     "data": {
      "text/html": [
       "<div>\n",
       "<style scoped>\n",
       "    .dataframe tbody tr th:only-of-type {\n",
       "        vertical-align: middle;\n",
       "    }\n",
       "\n",
       "    .dataframe tbody tr th {\n",
       "        vertical-align: top;\n",
       "    }\n",
       "\n",
       "    .dataframe thead th {\n",
       "        text-align: right;\n",
       "    }\n",
       "</style>\n",
       "<table border=\"1\" class=\"dataframe\">\n",
       "  <thead>\n",
       "    <tr style=\"text-align: right;\">\n",
       "      <th></th>\n",
       "      <th>pickup_dt</th>\n",
       "      <th>borough</th>\n",
       "      <th>pickups</th>\n",
       "      <th>spd</th>\n",
       "    </tr>\n",
       "  </thead>\n",
       "  <tbody>\n",
       "    <tr>\n",
       "      <th>0</th>\n",
       "      <td>1/1/2015 1:00</td>\n",
       "      <td>Bronx</td>\n",
       "      <td>152</td>\n",
       "      <td>5.0</td>\n",
       "    </tr>\n",
       "    <tr>\n",
       "      <th>1</th>\n",
       "      <td>1/1/2015 1:00</td>\n",
       "      <td>Brooklyn</td>\n",
       "      <td>1519</td>\n",
       "      <td>5.0</td>\n",
       "    </tr>\n",
       "    <tr>\n",
       "      <th>2</th>\n",
       "      <td>1/1/2015 1:00</td>\n",
       "      <td>EWR</td>\n",
       "      <td>0</td>\n",
       "      <td>5.0</td>\n",
       "    </tr>\n",
       "    <tr>\n",
       "      <th>3</th>\n",
       "      <td>1/1/2015 1:00</td>\n",
       "      <td>Manhattan</td>\n",
       "      <td>5258</td>\n",
       "      <td>5.0</td>\n",
       "    </tr>\n",
       "    <tr>\n",
       "      <th>4</th>\n",
       "      <td>1/1/2015 1:00</td>\n",
       "      <td>Queens</td>\n",
       "      <td>405</td>\n",
       "      <td>5.0</td>\n",
       "    </tr>\n",
       "  </tbody>\n",
       "</table>\n",
       "</div>"
      ],
      "text/plain": [
       "       pickup_dt    borough  pickups  spd\n",
       "0  1/1/2015 1:00      Bronx      152  5.0\n",
       "1  1/1/2015 1:00   Brooklyn     1519  5.0\n",
       "2  1/1/2015 1:00        EWR        0  5.0\n",
       "3  1/1/2015 1:00  Manhattan     5258  5.0\n",
       "4  1/1/2015 1:00     Queens      405  5.0"
      ]
     },
     "execution_count": 101,
     "metadata": {},
     "output_type": "execute_result"
    }
   ],
   "source": [
    "# Does Wind Speed affect the number of pickups? How does wind with or without precipitation affect it? - Ryan\n",
    "wind_df= uber_df[[\"pickup_dt\", \"borough\", \"pickups\", \"spd\"]]\n",
    "\n",
    "wind_df.head()\n"
   ]
  },
  {
   "cell_type": "code",
   "execution_count": 102,
   "metadata": {},
   "outputs": [],
   "source": [
    "#Does different boroughs? Ryan"
   ]
  },
  {
   "cell_type": "code",
   "execution_count": 103,
   "metadata": {},
   "outputs": [
    {
     "name": "stdout",
     "output_type": "stream",
     "text": [
      "      day_of_the_week  pickups\n",
      "0            Thursday      152\n",
      "1            Thursday     1519\n",
      "2            Thursday        0\n",
      "3            Thursday     5258\n",
      "4            Thursday      405\n",
      "...               ...      ...\n",
      "29096         Tuesday        0\n",
      "29097         Tuesday     3828\n",
      "29098         Tuesday      580\n",
      "29099         Tuesday        0\n",
      "29100         Tuesday        3\n",
      "\n",
      "[29101 rows x 2 columns]\n"
     ]
    }
   ],
   "source": [
    "# Does the day of the week affect pickups? - Fidel\n",
    "uber_df['timestamp']= pd.to_datetime(uber_df['pickup_dt'])\n",
    "uber_df['timestamp'].dt.day_name()\n",
    "uber_df['day_of_the_week']=uber_df['timestamp'].dt.day_name()\n",
    "uber_df_2=uber_df[[\"day_of_the_week\", \"pickups\"]]\n",
    "\n",
    "\n",
    "print(uber_df_2)\n"
   ]
  },
  {
   "cell_type": "code",
   "execution_count": 104,
   "metadata": {},
   "outputs": [],
   "source": [
    "# Extract individual days\n",
    "group0 = uber_df_2[uber_df_2[\"day_of_the_week\"] == 'Friday'][\"pickups\"]\n",
    "group1 = uber_df_2[uber_df_2[\"day_of_the_week\"] == 'Monday'][\"pickups\"]\n",
    "group2 = uber_df_2[uber_df_2[\"day_of_the_week\"] == 'Saturday'][\"pickups\"]\n",
    "group3 = uber_df_2[uber_df_2[\"day_of_the_week\"] == 'Sunday'][\"pickups\"]\n",
    "group4 = uber_df_2[uber_df_2[\"day_of_the_week\"] == 'Thursday'][\"pickups\"]\n",
    "group5= uber_df_2[uber_df_2[\"day_of_the_week\"] == 'Tuesday'][\"pickups\"]\n",
    "group6= uber_df_2[uber_df_2[\"day_of_the_week\"] == 'Wednesday'][\"pickups\"]"
   ]
  },
  {
   "cell_type": "code",
   "execution_count": 105,
   "metadata": {},
   "outputs": [
    {
     "data": {
      "text/plain": [
       "F_onewayResult(statistic=12.766621162505526, pvalue=1.880511996714594e-14)"
      ]
     },
     "execution_count": 105,
     "metadata": {},
     "output_type": "execute_result"
    }
   ],
   "source": [
    "# Perform the ANOVA\n",
    "st.f_oneway(group0, group1, group2, group3, group4,group5,group6)"
   ]
  },
  {
   "cell_type": "code",
   "execution_count": 106,
   "metadata": {},
   "outputs": [
    {
     "data": {
      "text/plain": [
       "day_of_the_week\n",
       "Friday       2261480\n",
       "Monday       1698122\n",
       "Saturday     2410063\n",
       "Sunday       2004315\n",
       "Thursday     2140072\n",
       "Tuesday      1864578\n",
       "Wednesday    1887143\n",
       "Name: pickups, dtype: int64"
      ]
     },
     "execution_count": 106,
     "metadata": {},
     "output_type": "execute_result"
    }
   ],
   "source": [
    "#create a new data frame to show total pickups_per_day\n",
    "pick_up_totals=uber_df.groupby(\"day_of_the_week\")[\"pickups\"].sum()\n",
    "pick_up_totals"
   ]
  },
  {
   "cell_type": "code",
   "execution_count": 107,
   "metadata": {},
   "outputs": [],
   "source": [
    "# Labels for the sections of our pie chart\n",
    "labels = [\"Friday\", \"Monday\", \"Saturday\", \"Sunday\", \"Thursday\",\"Tuesday\",\"Wednesday\"]\n",
    "\n",
    "# The values of each section of the pie chart\n",
    "sizes = [2261480, 1698122,2410063, 2004315,2140072,1864578,1887143]\n",
    "\n",
    "# The colors of each section of the pie chart\n",
    "colors = [\"red\", \"orange\", \"purple\", \"blue\", \"yellow\",\"green\", \"pink\"]"
   ]
  },
  {
   "cell_type": "code",
   "execution_count": 108,
   "metadata": {},
   "outputs": [
    {
     "data": {
      "image/png": "[encoded data removed]",
      "text/plain": [
       "<Figure size 640x480 with 1 Axes>"
      ]
     },
     "metadata": {},
     "output_type": "display_data"
    }
   ],
   "source": [
    "# Creates the pie chart based upon the values above\n",
    "# Automatically finds the percentages of each part of the pie chart\n",
    "plt.pie(sizes, labels=labels, colors=colors,\n",
    "        autopct=\"%1.1f%%\", shadow=True, startangle=140)\n",
    "plt.show()"
   ]
  },
  {
   "cell_type": "code",
   "execution_count": 109,
   "metadata": {},
   "outputs": [],
   "source": [
    "#creating variables for the barchart\n",
    "pickup_by_day=uber_df.groupby([\"day_of_the_week\"])[\"pickups\"].mean()\n",
    "pick_by_days= pickup_by_day.sort_values(ascending= True)"
   ]
  },
  {
   "cell_type": "code",
   "execution_count": 110,
   "metadata": {},
   "outputs": [
    {
     "data": {
      "image/png": "[encoded data removed]",
      "text/plain": [
       "<Figure size 640x480 with 1 Axes>"
      ]
     },
     "metadata": {},
     "output_type": "display_data"
    },
    {
     "data": {
      "text/plain": [
       "<Figure size 640x480 with 0 Axes>"
      ]
     },
     "metadata": {},
     "output_type": "display_data"
    }
   ],
   "source": [
    "#Bar graph to show the average pickups occured per day\n",
    "pick_up_days_chart= pick_by_days.plot(kind= 'bar', fig= (7,7))\n",
    "# Set the xlabel and ylabel using class methods\n",
    "pick_up_days_chart.set_xlabel(\"day_of_the_week\")\n",
    "pick_up_days_chart.set_ylabel(\"# pickups\")\n",
    "\n",
    "#add title to chart\n",
    "plt.title('average # pickups per day')\n",
    "\n",
    "plt.show()\n",
    "plt.tight_layout()"
   ]
  },
  {
   "cell_type": "code",
   "execution_count": 111,
   "metadata": {},
   "outputs": [
    {
     "name": "stdout",
     "output_type": "stream",
     "text": [
      "      day_type  pickups\n",
      "0      Weekday      152\n",
      "1      Weekday     1519\n",
      "2      Weekday        0\n",
      "3      Weekday     5258\n",
      "4      Weekday      405\n",
      "...        ...      ...\n",
      "29096  Weekday        0\n",
      "29097  Weekday     3828\n",
      "29098  Weekday      580\n",
      "29099  Weekday        0\n",
      "29100  Weekday        3\n",
      "\n",
      "[29101 rows x 2 columns]\n"
     ]
    }
   ],
   "source": [
    "#Difference in Weekdays vs Weekends? - Fidel\n",
    "uber_df['timestamp']= pd.to_datetime(uber_df['pickup_dt'])\n",
    "uber_df['timestamp'].dt.dayofweek\n",
    "uber_df['weekday'] = uber_df['timestamp'].dt.day_of_week\n",
    "uber_df['day_type'] = uber_df['weekday'].apply(lambda x: 'Weekend' if x >= 5 else 'Weekday')\n",
    "trip_by_week= uber_df[[\"day_type\", \"pickups\"]]\n",
    "print(trip_by_week)\n"
   ]
  },
  {
   "cell_type": "code",
   "execution_count": 112,
   "metadata": {},
   "outputs": [],
   "source": [
    "# Extract weekdays and weekends\n",
    "group0 = trip_by_week[trip_by_week[\"day_type\"] == 'Weekday'][\"pickups\"]\n",
    "group1 = trip_by_week[trip_by_week[\"day_type\"] == 'Weekend'][\"pickups\"]"
   ]
  },
  {
   "cell_type": "code",
   "execution_count": 113,
   "metadata": {},
   "outputs": [
    {
     "data": {
      "text/plain": [
       "F_onewayResult(statistic=14.014507957897177, pvalue=0.00018175457982768056)"
      ]
     },
     "execution_count": 113,
     "metadata": {},
     "output_type": "execute_result"
    }
   ],
   "source": [
    "# Perform the ANOVA\n",
    "st.f_oneway(group0, group1)"
   ]
  },
  {
   "cell_type": "code",
   "execution_count": 114,
   "metadata": {},
   "outputs": [],
   "source": [
    "#creating variables for the barchart\n",
    "pickup_week=trip_by_week.groupby([\"day_type\"])[\"pickups\"].mean()\n",
    "pick_by_week= pickup_week.sort_values(ascending= True)"
   ]
  },
  {
   "cell_type": "code",
   "execution_count": 115,
   "metadata": {},
   "outputs": [
    {
     "data": {
      "image/png": "[encoded data removed]",
      "text/plain": [
       "<Figure size 640x480 with 1 Axes>"
      ]
     },
     "metadata": {},
     "output_type": "display_data"
    },
    {
     "data": {
      "text/plain": [
       "<Figure size 640x480 with 0 Axes>"
      ]
     },
     "metadata": {},
     "output_type": "display_data"
    }
   ],
   "source": [
    "#Bar graph to show the average pickups occured per day\n",
    "pick_up_week_chart= pick_by_week.plot(kind= 'bar', fig= (7,7))\n",
    "# Set the xlabel and ylabel using class methods\n",
    "pick_up_week_chart.set_xlabel(\"Weekday & weekends\")\n",
    "pick_up_week_chart.set_ylabel(\"# pickups\")\n",
    "\n",
    "#add title to chart\n",
    "plt.title('average #pickups by weekday vs weekend')\n",
    "\n",
    "plt.show()\n",
    "plt.tight_layout()"
   ]
  },
  {
   "cell_type": "code",
   "execution_count": 116,
   "metadata": {},
   "outputs": [
    {
     "name": "stdout",
     "output_type": "stream",
     "text": [
      "day_type\n",
      "Weekday    9851395\n",
      "Weekend    4414378\n",
      "Name: pickups, dtype: int64\n"
     ]
    }
   ],
   "source": [
    "#variables for Pie chart\n",
    "by_week= trip_by_week.groupby(\"day_type\")[\"pickups\"].sum()\n",
    "print(by_week)"
   ]
  },
  {
   "cell_type": "code",
   "execution_count": 117,
   "metadata": {},
   "outputs": [],
   "source": [
    "# Labels for the sections of our pie chart\n",
    "labels = [\"Weekday\", \"Weekend\"]\n",
    "\n",
    "# The values of each section of the pie chart\n",
    "sizes = [9851395, 4414378,]\n",
    "\n",
    "# The colors of each section of the pie chart\n",
    "colors = [ \"purple\", \"yellow\"]"
   ]
  },
  {
   "cell_type": "code",
   "execution_count": 118,
   "metadata": {},
   "outputs": [
    {
     "data": {
      "image/png": "[encoded data removed]",
      "text/plain": [
       "<Figure size 640x480 with 1 Axes>"
      ]
     },
     "metadata": {},
     "output_type": "display_data"
    }
   ],
   "source": [
    "# Creates the pie chart based upon the values above\n",
    "# Automatically finds the percentages of each part of the pie chart\n",
    "plt.pie(sizes, labels=labels, colors=colors,\n",
    "        autopct=\"%1.1f%%\", shadow=True, startangle=140)\n",
    "plt.show()"
   ]
  },
  {
   "cell_type": "code",
   "execution_count": 119,
   "metadata": {},
   "outputs": [
    {
     "name": "stdout",
     "output_type": "stream",
     "text": [
      "hday\n",
      "N    13775672\n",
      "Y      490101\n",
      "Name: pickups, dtype: int64\n"
     ]
    }
   ],
   "source": [
    "# does Holiday's affcet the number of pickups?\n",
    "#creating holiday dataframe\n",
    "holiday_df= uber_df[[\"pickup_dt\",\"pickups\",\"hday\"]]\n",
    "by_holiday= holiday_df.groupby(\"hday\")[\"pickups\"].sum()\n",
    "\n",
    "print(by_holiday)"
   ]
  },
  {
   "cell_type": "code",
   "execution_count": 120,
   "metadata": {},
   "outputs": [
    {
     "data": {
      "image/png": "[encoded data removed]",
      "text/plain": [
       "<Figure size 640x480 with 1 Axes>"
      ]
     },
     "metadata": {},
     "output_type": "display_data"
    },
    {
     "data": {
      "text/plain": [
       "<Figure size 640x480 with 0 Axes>"
      ]
     },
     "metadata": {},
     "output_type": "display_data"
    }
   ],
   "source": [
    "#bar graph creation\n",
    "pick_by_holiday= by_holiday.sort_values(ascending= True)\n",
    "#Bar graph to show the average pickups occured per day\n",
    "pick_up_holiday_chart= pick_by_holiday.plot(kind= 'bar', fig= (7,7))\n",
    "# Set the xlabel and ylabel using class methods\n",
    "pick_up_holiday_chart.set_xlabel(\"Holiday & Non-holiday\")\n",
    "pick_up_holiday_chart.set_ylabel(\"# pickups\")\n",
    "\n",
    "#add title to chart\n",
    "plt.title(\"#pickups by holiday vs non-holiday\")\n",
    "\n",
    "plt.show()\n",
    "plt.tight_layout()"
   ]
  },
  {
   "cell_type": "code",
   "execution_count": 121,
   "metadata": {},
   "outputs": [],
   "source": [
    "# Labels for the sections of our pie chart\n",
    "labels = [\"Holiday\", \"Non-holiday\"]\n",
    "\n",
    "# The values of each section of the pie chart\n",
    "sizes = [490101, 13775672]\n",
    "\n",
    "# The colors of each section of the pie chart\n",
    "colors = [ \"green\", \"pink\"]"
   ]
  },
  {
   "cell_type": "code",
   "execution_count": 122,
   "metadata": {},
   "outputs": [
    {
     "data": {
      "image/png": "[encoded data removed]",
      "text/plain": [
       "<Figure size 640x480 with 1 Axes>"
      ]
     },
     "metadata": {},
     "output_type": "display_data"
    }
   ],
   "source": [
    "# Creates the pie chart based upon the values above\n",
    "# Automatically finds the percentages of each part of the pie chart\n",
    "plt.pie(sizes, labels=labels, colors=colors,\n",
    "        autopct=\"%1.1f%%\", shadow=True, startangle=140)\n",
    "plt.show()"
   ]
  },
  {
   "cell_type": "code",
   "execution_count": 123,
   "metadata": {},
   "outputs": [],
   "source": [
    "# Correlation and Regression"
   ]
  },
  {
   "attachments": {},
   "cell_type": "markdown",
   "metadata": {},
   "source": [
    "## Analysis"
   ]
  }
 ],
 "metadata": {
  "kernelspec": {
   "display_name": "base",
   "language": "python",
   "name": "python3"
  },
  "language_info": {
   "codemirror_mode": {
    "name": "ipython",
    "version": 3
   },
   "file_extension": ".py",
   "mimetype": "text/x-python",
   "name": "python",
   "nbconvert_exporter": "python",
   "pygments_lexer": "ipython3",
   "version": "3.9.13"
  },
  "orig_nbformat": 4,
  "vscode": {
   "interpreter": {
    "hash": "3a9e2e14d40b88377c92fb58f5899e53e902ecec2c0e590e7c67669b07712148"
   }
  }
 },
 "nbformat": 4,
 "nbformat_minor": 2
}
