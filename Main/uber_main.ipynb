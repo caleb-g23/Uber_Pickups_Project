{
 "cells": [
  {
   "cell_type": "code",
   "execution_count": 1,
   "metadata": {},
   "outputs": [],
   "source": [
    "%matplotlib inline"
   ]
  },
  {
   "cell_type": "code",
   "execution_count": 2,
   "metadata": {},
   "outputs": [],
   "source": [
    "# Import Dependencies\n",
    "import json\n",
    "import requests\n",
    "import matplotlib.pyplot as plt\n",
    "from pathlib import Path\n",
    "import pandas as pd\n",
    "import numpy as np\n",
    "import scipy.stats as st\n",
    "from scipy.stats import linregress"
   ]
  },
  {
   "cell_type": "code",
   "execution_count": 3,
   "metadata": {},
   "outputs": [
    {
     "data": {
      "text/html": [
       "<div>\n",
       "<style scoped>\n",
       "    .dataframe tbody tr th:only-of-type {\n",
       "        vertical-align: middle;\n",
       "    }\n",
       "\n",
       "    .dataframe tbody tr th {\n",
       "        vertical-align: top;\n",
       "    }\n",
       "\n",
       "    .dataframe thead th {\n",
       "        text-align: right;\n",
       "    }\n",
       "</style>\n",
       "<table border=\"1\" class=\"dataframe\">\n",
       "  <thead>\n",
       "    <tr style=\"text-align: right;\">\n",
       "      <th></th>\n",
       "      <th>pickup_dt</th>\n",
       "      <th>borough</th>\n",
       "      <th>pickups</th>\n",
       "      <th>spd</th>\n",
       "      <th>vsb</th>\n",
       "      <th>temp</th>\n",
       "      <th>dewp</th>\n",
       "      <th>slp</th>\n",
       "      <th>pcp01</th>\n",
       "      <th>pcp06</th>\n",
       "      <th>pcp24</th>\n",
       "      <th>sd</th>\n",
       "      <th>hday</th>\n",
       "    </tr>\n",
       "  </thead>\n",
       "  <tbody>\n",
       "    <tr>\n",
       "      <th>0</th>\n",
       "      <td>1/1/2015 1:00</td>\n",
       "      <td>Bronx</td>\n",
       "      <td>152</td>\n",
       "      <td>5.0</td>\n",
       "      <td>10.0</td>\n",
       "      <td>30.0</td>\n",
       "      <td>7.0</td>\n",
       "      <td>1023.5</td>\n",
       "      <td>0.0</td>\n",
       "      <td>0.0</td>\n",
       "      <td>0.0</td>\n",
       "      <td>0.0</td>\n",
       "      <td>Y</td>\n",
       "    </tr>\n",
       "    <tr>\n",
       "      <th>1</th>\n",
       "      <td>1/1/2015 1:00</td>\n",
       "      <td>Brooklyn</td>\n",
       "      <td>1519</td>\n",
       "      <td>5.0</td>\n",
       "      <td>10.0</td>\n",
       "      <td>30.0</td>\n",
       "      <td>7.0</td>\n",
       "      <td>1023.5</td>\n",
       "      <td>0.0</td>\n",
       "      <td>0.0</td>\n",
       "      <td>0.0</td>\n",
       "      <td>0.0</td>\n",
       "      <td>Y</td>\n",
       "    </tr>\n",
       "    <tr>\n",
       "      <th>2</th>\n",
       "      <td>1/1/2015 1:00</td>\n",
       "      <td>EWR</td>\n",
       "      <td>0</td>\n",
       "      <td>5.0</td>\n",
       "      <td>10.0</td>\n",
       "      <td>30.0</td>\n",
       "      <td>7.0</td>\n",
       "      <td>1023.5</td>\n",
       "      <td>0.0</td>\n",
       "      <td>0.0</td>\n",
       "      <td>0.0</td>\n",
       "      <td>0.0</td>\n",
       "      <td>Y</td>\n",
       "    </tr>\n",
       "    <tr>\n",
       "      <th>3</th>\n",
       "      <td>1/1/2015 1:00</td>\n",
       "      <td>Manhattan</td>\n",
       "      <td>5258</td>\n",
       "      <td>5.0</td>\n",
       "      <td>10.0</td>\n",
       "      <td>30.0</td>\n",
       "      <td>7.0</td>\n",
       "      <td>1023.5</td>\n",
       "      <td>0.0</td>\n",
       "      <td>0.0</td>\n",
       "      <td>0.0</td>\n",
       "      <td>0.0</td>\n",
       "      <td>Y</td>\n",
       "    </tr>\n",
       "    <tr>\n",
       "      <th>4</th>\n",
       "      <td>1/1/2015 1:00</td>\n",
       "      <td>Queens</td>\n",
       "      <td>405</td>\n",
       "      <td>5.0</td>\n",
       "      <td>10.0</td>\n",
       "      <td>30.0</td>\n",
       "      <td>7.0</td>\n",
       "      <td>1023.5</td>\n",
       "      <td>0.0</td>\n",
       "      <td>0.0</td>\n",
       "      <td>0.0</td>\n",
       "      <td>0.0</td>\n",
       "      <td>Y</td>\n",
       "    </tr>\n",
       "  </tbody>\n",
       "</table>\n",
       "</div>"
      ],
      "text/plain": [
       "       pickup_dt    borough  pickups  spd   vsb  temp  dewp     slp  pcp01  \\\n",
       "0  1/1/2015 1:00      Bronx      152  5.0  10.0  30.0   7.0  1023.5    0.0   \n",
       "1  1/1/2015 1:00   Brooklyn     1519  5.0  10.0  30.0   7.0  1023.5    0.0   \n",
       "2  1/1/2015 1:00        EWR        0  5.0  10.0  30.0   7.0  1023.5    0.0   \n",
       "3  1/1/2015 1:00  Manhattan     5258  5.0  10.0  30.0   7.0  1023.5    0.0   \n",
       "4  1/1/2015 1:00     Queens      405  5.0  10.0  30.0   7.0  1023.5    0.0   \n",
       "\n",
       "   pcp06  pcp24   sd hday  \n",
       "0    0.0    0.0  0.0    Y  \n",
       "1    0.0    0.0  0.0    Y  \n",
       "2    0.0    0.0  0.0    Y  \n",
       "3    0.0    0.0  0.0    Y  \n",
       "4    0.0    0.0  0.0    Y  "
      ]
     },
     "execution_count": 3,
     "metadata": {},
     "output_type": "execute_result"
    }
   ],
   "source": [
    "# Import csv file and make DataFrame\n",
    "uber_data = Path(\"../Resources/Uber_Project_CSV.csv\")\n",
    "uber_df = pd.read_csv(uber_data)\n",
    "uber_df.head()"
   ]
  },
  {
   "cell_type": "code",
   "execution_count": 4,
   "metadata": {},
   "outputs": [
    {
     "data": {
      "text/html": [
       "<div>\n",
       "<style scoped>\n",
       "    .dataframe tbody tr th:only-of-type {\n",
       "        vertical-align: middle;\n",
       "    }\n",
       "\n",
       "    .dataframe tbody tr th {\n",
       "        vertical-align: top;\n",
       "    }\n",
       "\n",
       "    .dataframe thead th {\n",
       "        text-align: right;\n",
       "    }\n",
       "</style>\n",
       "<table border=\"1\" class=\"dataframe\">\n",
       "  <thead>\n",
       "    <tr style=\"text-align: right;\">\n",
       "      <th></th>\n",
       "      <th>name</th>\n",
       "      <th>datetime</th>\n",
       "      <th>tempmax</th>\n",
       "      <th>tempmin</th>\n",
       "      <th>temp</th>\n",
       "      <th>feelslikemax</th>\n",
       "      <th>feelslikemin</th>\n",
       "      <th>feelslike</th>\n",
       "      <th>dew</th>\n",
       "      <th>humidity</th>\n",
       "      <th>...</th>\n",
       "      <th>solarenergy</th>\n",
       "      <th>uvindex</th>\n",
       "      <th>severerisk</th>\n",
       "      <th>sunrise</th>\n",
       "      <th>sunset</th>\n",
       "      <th>moonphase</th>\n",
       "      <th>conditions</th>\n",
       "      <th>description</th>\n",
       "      <th>icon</th>\n",
       "      <th>stations</th>\n",
       "    </tr>\n",
       "  </thead>\n",
       "  <tbody>\n",
       "    <tr>\n",
       "      <th>0</th>\n",
       "      <td>new york city</td>\n",
       "      <td>1/1/2015</td>\n",
       "      <td>38.7</td>\n",
       "      <td>27.3</td>\n",
       "      <td>32.8</td>\n",
       "      <td>35.8</td>\n",
       "      <td>17.1</td>\n",
       "      <td>25.6</td>\n",
       "      <td>9.6</td>\n",
       "      <td>37.7</td>\n",
       "      <td>...</td>\n",
       "      <td>9.9</td>\n",
       "      <td>5</td>\n",
       "      <td>NaN</td>\n",
       "      <td>2015-01-01T07:20:09</td>\n",
       "      <td>2015-01-01T16:39:07</td>\n",
       "      <td>0.38</td>\n",
       "      <td>Clear</td>\n",
       "      <td>Clear conditions throughout the day.</td>\n",
       "      <td>clear-day</td>\n",
       "      <td>72505394728,KLGA,KNYC,72503014732</td>\n",
       "    </tr>\n",
       "    <tr>\n",
       "      <th>1</th>\n",
       "      <td>new york city</td>\n",
       "      <td>1/2/2015</td>\n",
       "      <td>42.2</td>\n",
       "      <td>36.0</td>\n",
       "      <td>38.6</td>\n",
       "      <td>36.5</td>\n",
       "      <td>28.1</td>\n",
       "      <td>32.2</td>\n",
       "      <td>16.8</td>\n",
       "      <td>41.0</td>\n",
       "      <td>...</td>\n",
       "      <td>9.5</td>\n",
       "      <td>5</td>\n",
       "      <td>NaN</td>\n",
       "      <td>2015-01-02T07:20:15</td>\n",
       "      <td>2015-01-02T16:39:58</td>\n",
       "      <td>0.41</td>\n",
       "      <td>Partially cloudy</td>\n",
       "      <td>Partly cloudy throughout the day.</td>\n",
       "      <td>partly-cloudy-day</td>\n",
       "      <td>72505394728,KLGA,KNYC,72503014732</td>\n",
       "    </tr>\n",
       "    <tr>\n",
       "      <th>2</th>\n",
       "      <td>new york city</td>\n",
       "      <td>1/3/2015</td>\n",
       "      <td>40.7</td>\n",
       "      <td>33.5</td>\n",
       "      <td>35.8</td>\n",
       "      <td>35.0</td>\n",
       "      <td>25.9</td>\n",
       "      <td>30.2</td>\n",
       "      <td>26.1</td>\n",
       "      <td>69.4</td>\n",
       "      <td>...</td>\n",
       "      <td>5.2</td>\n",
       "      <td>3</td>\n",
       "      <td>NaN</td>\n",
       "      <td>2015-01-03T07:20:19</td>\n",
       "      <td>2015-01-03T16:40:50</td>\n",
       "      <td>0.45</td>\n",
       "      <td>Snow, Rain, Partially cloudy</td>\n",
       "      <td>Partly cloudy throughout the day with rain or ...</td>\n",
       "      <td>rain</td>\n",
       "      <td>72505394728,KLGA,KNYC,72503014732</td>\n",
       "    </tr>\n",
       "    <tr>\n",
       "      <th>3</th>\n",
       "      <td>new york city</td>\n",
       "      <td>1/4/2015</td>\n",
       "      <td>55.4</td>\n",
       "      <td>41.0</td>\n",
       "      <td>48.2</td>\n",
       "      <td>55.4</td>\n",
       "      <td>36.6</td>\n",
       "      <td>46.6</td>\n",
       "      <td>44.6</td>\n",
       "      <td>87.4</td>\n",
       "      <td>...</td>\n",
       "      <td>3.8</td>\n",
       "      <td>3</td>\n",
       "      <td>NaN</td>\n",
       "      <td>2015-01-04T07:20:20</td>\n",
       "      <td>2015-01-04T16:41:44</td>\n",
       "      <td>0.50</td>\n",
       "      <td>Rain, Overcast</td>\n",
       "      <td>Cloudy skies throughout the day with rain.</td>\n",
       "      <td>rain</td>\n",
       "      <td>72505394728,KLGA,KNYC,72503014732</td>\n",
       "    </tr>\n",
       "    <tr>\n",
       "      <th>4</th>\n",
       "      <td>new york city</td>\n",
       "      <td>1/5/2015</td>\n",
       "      <td>50.3</td>\n",
       "      <td>21.8</td>\n",
       "      <td>36.3</td>\n",
       "      <td>50.3</td>\n",
       "      <td>11.4</td>\n",
       "      <td>27.8</td>\n",
       "      <td>12.2</td>\n",
       "      <td>37.1</td>\n",
       "      <td>...</td>\n",
       "      <td>9.9</td>\n",
       "      <td>5</td>\n",
       "      <td>NaN</td>\n",
       "      <td>2015-01-05T07:20:19</td>\n",
       "      <td>2015-01-05T16:42:40</td>\n",
       "      <td>0.52</td>\n",
       "      <td>Partially cloudy</td>\n",
       "      <td>Partly cloudy throughout the day.</td>\n",
       "      <td>partly-cloudy-day</td>\n",
       "      <td>72505394728,KLGA,KNYC,72503014732</td>\n",
       "    </tr>\n",
       "  </tbody>\n",
       "</table>\n",
       "<p>5 rows × 33 columns</p>\n",
       "</div>"
      ],
      "text/plain": [
       "            name  datetime  tempmax  tempmin  temp  feelslikemax  \\\n",
       "0  new york city  1/1/2015     38.7     27.3  32.8          35.8   \n",
       "1  new york city  1/2/2015     42.2     36.0  38.6          36.5   \n",
       "2  new york city  1/3/2015     40.7     33.5  35.8          35.0   \n",
       "3  new york city  1/4/2015     55.4     41.0  48.2          55.4   \n",
       "4  new york city  1/5/2015     50.3     21.8  36.3          50.3   \n",
       "\n",
       "   feelslikemin  feelslike   dew  humidity  ...  solarenergy  uvindex  \\\n",
       "0          17.1       25.6   9.6      37.7  ...          9.9        5   \n",
       "1          28.1       32.2  16.8      41.0  ...          9.5        5   \n",
       "2          25.9       30.2  26.1      69.4  ...          5.2        3   \n",
       "3          36.6       46.6  44.6      87.4  ...          3.8        3   \n",
       "4          11.4       27.8  12.2      37.1  ...          9.9        5   \n",
       "\n",
       "   severerisk              sunrise               sunset  moonphase  \\\n",
       "0         NaN  2015-01-01T07:20:09  2015-01-01T16:39:07       0.38   \n",
       "1         NaN  2015-01-02T07:20:15  2015-01-02T16:39:58       0.41   \n",
       "2         NaN  2015-01-03T07:20:19  2015-01-03T16:40:50       0.45   \n",
       "3         NaN  2015-01-04T07:20:20  2015-01-04T16:41:44       0.50   \n",
       "4         NaN  2015-01-05T07:20:19  2015-01-05T16:42:40       0.52   \n",
       "\n",
       "                     conditions  \\\n",
       "0                         Clear   \n",
       "1              Partially cloudy   \n",
       "2  Snow, Rain, Partially cloudy   \n",
       "3                Rain, Overcast   \n",
       "4              Partially cloudy   \n",
       "\n",
       "                                         description               icon  \\\n",
       "0               Clear conditions throughout the day.          clear-day   \n",
       "1                  Partly cloudy throughout the day.  partly-cloudy-day   \n",
       "2  Partly cloudy throughout the day with rain or ...               rain   \n",
       "3         Cloudy skies throughout the day with rain.               rain   \n",
       "4                  Partly cloudy throughout the day.  partly-cloudy-day   \n",
       "\n",
       "                            stations  \n",
       "0  72505394728,KLGA,KNYC,72503014732  \n",
       "1  72505394728,KLGA,KNYC,72503014732  \n",
       "2  72505394728,KLGA,KNYC,72503014732  \n",
       "3  72505394728,KLGA,KNYC,72503014732  \n",
       "4  72505394728,KLGA,KNYC,72503014732  \n",
       "\n",
       "[5 rows x 33 columns]"
      ]
     },
     "execution_count": 4,
     "metadata": {},
     "output_type": "execute_result"
    }
   ],
   "source": [
    "#Import URL and API CSV file\n",
    "#url = \"https://weather.visualcrossing.com/VisualCrossingWebServices/rest/services/timeline/new%2520york%2520city/2015-01-01/2015-06-30?elements=datetime%2CdatetimeEpoch%2Ctemp%2Ctempmax%2Ctempmin%2Cprecip%2Cwindspeed%2Cwindgust%2Cfeelslike%2Cfeelslikemax%2Cfeelslikemin%2Cpressure%2Cstations%2Cdegreedays%2Caccdegreedays&include=fcst%2Cobs%2Chistfcst%2Cstats%2Chours&key=9R8U63UTPUJVYD92WRCVMZZXB&options=preview&contentType=json\"\n",
    "weather_api = Path(\"../Resources/NYC_Weather_API_data.csv\")\n",
    "weather_df= pd.read_csv(weather_api)\n",
    "weather_df.head()\n"
   ]
  },
  {
   "cell_type": "code",
   "execution_count": 5,
   "metadata": {},
   "outputs": [
    {
     "data": {
      "text/html": [
       "<div>\n",
       "<style scoped>\n",
       "    .dataframe tbody tr th:only-of-type {\n",
       "        vertical-align: middle;\n",
       "    }\n",
       "\n",
       "    .dataframe tbody tr th {\n",
       "        vertical-align: top;\n",
       "    }\n",
       "\n",
       "    .dataframe thead th {\n",
       "        text-align: right;\n",
       "    }\n",
       "</style>\n",
       "<table border=\"1\" class=\"dataframe\">\n",
       "  <thead>\n",
       "    <tr style=\"text-align: right;\">\n",
       "      <th></th>\n",
       "      <th>pickups</th>\n",
       "    </tr>\n",
       "    <tr>\n",
       "      <th>borough</th>\n",
       "      <th></th>\n",
       "    </tr>\n",
       "  </thead>\n",
       "  <tbody>\n",
       "    <tr>\n",
       "      <th>Bronx</th>\n",
       "      <td>8584</td>\n",
       "    </tr>\n",
       "    <tr>\n",
       "      <th>Brooklyn</th>\n",
       "      <td>94105</td>\n",
       "    </tr>\n",
       "    <tr>\n",
       "      <th>EWR</th>\n",
       "      <td>1</td>\n",
       "    </tr>\n",
       "    <tr>\n",
       "      <th>Manhattan</th>\n",
       "      <td>447622</td>\n",
       "    </tr>\n",
       "    <tr>\n",
       "      <th>Queens</th>\n",
       "      <td>53488</td>\n",
       "    </tr>\n",
       "    <tr>\n",
       "      <th>Staten Island</th>\n",
       "      <td>275</td>\n",
       "    </tr>\n",
       "  </tbody>\n",
       "</table>\n",
       "</div>"
      ],
      "text/plain": [
       "               pickups\n",
       "borough               \n",
       "Bronx             8584\n",
       "Brooklyn         94105\n",
       "EWR                  1\n",
       "Manhattan       447622\n",
       "Queens           53488\n",
       "Staten Island      275"
      ]
     },
     "execution_count": 5,
     "metadata": {},
     "output_type": "execute_result"
    }
   ],
   "source": [
    "#Isolate short rain pickups\n",
    "rain_data_df = uber_df[[\"pickup_dt\",\"borough\", \"pickups\", \"pcp01\", \"pcp06\", \"pcp24\"]]\n",
    "short_rain_df = rain_data_df[(rain_data_df[\"pcp01\"] > 0) & (rain_data_df[\"pcp06\"] == 0) & (rain_data_df[\"pcp24\"] == 0)]\n",
    "short_rain_chart_df =short_rain_df[[\"pickup_dt\", \"borough\", \"pickups\"]]\n",
    "short_rain_chart_df = short_rain_chart_df.groupby(\"borough\").agg({\"pickups\":\"sum\"}).reindex()\n",
    "short_rain_chart_df"
   ]
  },
  {
   "cell_type": "code",
   "execution_count": 6,
   "metadata": {},
   "outputs": [
    {
     "data": {
      "text/plain": [
       "15495"
      ]
     },
     "execution_count": 6,
     "metadata": {},
     "output_type": "execute_result"
    }
   ],
   "source": [
    "#Find total and average pickups for short rain\n",
    "short_rain_df = short_rain_df.astype({\"pickup_dt\":\"datetime64[D]\"})\n",
    "avg_short_rain = short_rain_df.groupby(\"pickup_dt\").agg({\"pickups\": \"sum\"}).reindex()\n",
    "days_of_short_rain = avg_short_rain.count()\n",
    "total_short_rain = sum(avg_short_rain[\"pickups\"])\n",
    "avg_short_rain_total = total_short_rain/days_of_short_rain\n",
    "avg_short_rain_total = int(avg_short_rain_total.round(2))\n",
    "avg_short_rain_total"
   ]
  },
  {
   "cell_type": "code",
   "execution_count": 7,
   "metadata": {},
   "outputs": [
    {
     "data": {
      "text/html": [
       "<div>\n",
       "<style scoped>\n",
       "    .dataframe tbody tr th:only-of-type {\n",
       "        vertical-align: middle;\n",
       "    }\n",
       "\n",
       "    .dataframe tbody tr th {\n",
       "        vertical-align: top;\n",
       "    }\n",
       "\n",
       "    .dataframe thead th {\n",
       "        text-align: right;\n",
       "    }\n",
       "</style>\n",
       "<table border=\"1\" class=\"dataframe\">\n",
       "  <thead>\n",
       "    <tr style=\"text-align: right;\">\n",
       "      <th></th>\n",
       "      <th>pickups</th>\n",
       "    </tr>\n",
       "    <tr>\n",
       "      <th>borough</th>\n",
       "      <th></th>\n",
       "    </tr>\n",
       "  </thead>\n",
       "  <tbody>\n",
       "    <tr>\n",
       "      <th>Bronx</th>\n",
       "      <td>21022</td>\n",
       "    </tr>\n",
       "    <tr>\n",
       "      <th>Brooklyn</th>\n",
       "      <td>234293</td>\n",
       "    </tr>\n",
       "    <tr>\n",
       "      <th>EWR</th>\n",
       "      <td>5</td>\n",
       "    </tr>\n",
       "    <tr>\n",
       "      <th>Manhattan</th>\n",
       "      <td>917997</td>\n",
       "    </tr>\n",
       "    <tr>\n",
       "      <th>Queens</th>\n",
       "      <td>130854</td>\n",
       "    </tr>\n",
       "    <tr>\n",
       "      <th>Staten Island</th>\n",
       "      <td>681</td>\n",
       "    </tr>\n",
       "  </tbody>\n",
       "</table>\n",
       "</div>"
      ],
      "text/plain": [
       "               pickups\n",
       "borough               \n",
       "Bronx            21022\n",
       "Brooklyn        234293\n",
       "EWR                  5\n",
       "Manhattan       917997\n",
       "Queens          130854\n",
       "Staten Island      681"
      ]
     },
     "execution_count": 7,
     "metadata": {},
     "output_type": "execute_result"
    }
   ],
   "source": [
    "#Isolate medium rain pickups\n",
    "medium_rain_df = rain_data_df[(rain_data_df[\"pcp06\"] > 0) & (rain_data_df[\"pcp01\"] == 0) & (rain_data_df[\"pcp24\"] == 0)]\n",
    "medium_rain_chart_df = medium_rain_df[[\"borough\", \"pickups\"]]\n",
    "medium_rain_chart_df = medium_rain_chart_df.groupby(\"borough\").agg({\"pickups\":\"sum\"}).reindex()\n",
    "medium_rain_chart_df"
   ]
  },
  {
   "cell_type": "code",
   "execution_count": 8,
   "metadata": {},
   "outputs": [
    {
     "data": {
      "text/plain": [
       "20397"
      ]
     },
     "execution_count": 8,
     "metadata": {},
     "output_type": "execute_result"
    }
   ],
   "source": [
    "#Find total and average pickups for medium rain\n",
    "medium_rain_df = medium_rain_df.astype({\"pickup_dt\":\"datetime64[D]\"})\n",
    "avg_medium_rain = medium_rain_df.groupby(\"pickup_dt\").agg({\"pickups\": \"sum\"}).reindex()\n",
    "days_of_medium_rain = avg_medium_rain.count()\n",
    "total_medium_rain = sum(avg_medium_rain[\"pickups\"])\n",
    "avg_medium_rain_total = total_medium_rain/days_of_medium_rain\n",
    "avg_medium_rain_total = int(avg_medium_rain_total.round(2))\n",
    "avg_medium_rain_total"
   ]
  },
  {
   "cell_type": "code",
   "execution_count": 9,
   "metadata": {},
   "outputs": [
    {
     "data": {
      "text/html": [
       "<div>\n",
       "<style scoped>\n",
       "    .dataframe tbody tr th:only-of-type {\n",
       "        vertical-align: middle;\n",
       "    }\n",
       "\n",
       "    .dataframe tbody tr th {\n",
       "        vertical-align: top;\n",
       "    }\n",
       "\n",
       "    .dataframe thead th {\n",
       "        text-align: right;\n",
       "    }\n",
       "</style>\n",
       "<table border=\"1\" class=\"dataframe\">\n",
       "  <thead>\n",
       "    <tr style=\"text-align: right;\">\n",
       "      <th></th>\n",
       "      <th>pickups</th>\n",
       "    </tr>\n",
       "    <tr>\n",
       "      <th>borough</th>\n",
       "      <th></th>\n",
       "    </tr>\n",
       "  </thead>\n",
       "  <tbody>\n",
       "    <tr>\n",
       "      <th>Bronx</th>\n",
       "      <td>50038</td>\n",
       "    </tr>\n",
       "    <tr>\n",
       "      <th>Brooklyn</th>\n",
       "      <td>514271</td>\n",
       "    </tr>\n",
       "    <tr>\n",
       "      <th>EWR</th>\n",
       "      <td>31</td>\n",
       "    </tr>\n",
       "    <tr>\n",
       "      <th>Manhattan</th>\n",
       "      <td>2433263</td>\n",
       "    </tr>\n",
       "    <tr>\n",
       "      <th>Queens</th>\n",
       "      <td>318784</td>\n",
       "    </tr>\n",
       "    <tr>\n",
       "      <th>Staten Island</th>\n",
       "      <td>1513</td>\n",
       "    </tr>\n",
       "  </tbody>\n",
       "</table>\n",
       "</div>"
      ],
      "text/plain": [
       "               pickups\n",
       "borough               \n",
       "Bronx            50038\n",
       "Brooklyn        514271\n",
       "EWR                 31\n",
       "Manhattan      2433263\n",
       "Queens          318784\n",
       "Staten Island     1513"
      ]
     },
     "execution_count": 9,
     "metadata": {},
     "output_type": "execute_result"
    }
   ],
   "source": [
    "#ISolate heavy rain pickups\n",
    "heavy_rain_df = rain_data_df[(rain_data_df[\"pcp24\"] > 0) & (rain_data_df[\"pcp01\"] == 0) & (rain_data_df[\"pcp06\"] == 0)]\n",
    "heavy_rain_chart_df = heavy_rain_df[[\"borough\", \"pickups\",\"pcp24\"]]\n",
    "heavy_rain_chart_df = heavy_rain_chart_df.groupby(\"borough\").agg({\"pickups\":\"sum\"}).reindex()\n",
    "heavy_rain_chart_df"
   ]
  },
  {
   "cell_type": "code",
   "execution_count": 10,
   "metadata": {},
   "outputs": [
    {
     "data": {
      "text/plain": [
       "29638"
      ]
     },
     "execution_count": 10,
     "metadata": {},
     "output_type": "execute_result"
    }
   ],
   "source": [
    "#Find total pickups and average pickups for heavy rain\n",
    "heavy_rain_df = heavy_rain_df.astype({\"pickup_dt\":\"datetime64[D]\"})\n",
    "avg_heavy_rain = heavy_rain_df.groupby(\"pickup_dt\").agg({\"pickups\": \"sum\"}).reindex()\n",
    "days_of_heavy_rain = avg_heavy_rain.count()\n",
    "total_heavy_rain = sum(avg_heavy_rain[\"pickups\"])\n",
    "avg_heavy_rain_total = total_heavy_rain/days_of_heavy_rain\n",
    "avg_heavy_rain_total = int(avg_heavy_rain_total.round(0))\n",
    "avg_heavy_rain_total"
   ]
  },
  {
   "cell_type": "code",
   "execution_count": 11,
   "metadata": {},
   "outputs": [
    {
     "data": {
      "text/html": [
       "<div>\n",
       "<style scoped>\n",
       "    .dataframe tbody tr th:only-of-type {\n",
       "        vertical-align: middle;\n",
       "    }\n",
       "\n",
       "    .dataframe tbody tr th {\n",
       "        vertical-align: top;\n",
       "    }\n",
       "\n",
       "    .dataframe thead th {\n",
       "        text-align: right;\n",
       "    }\n",
       "</style>\n",
       "<table border=\"1\" class=\"dataframe\">\n",
       "  <thead>\n",
       "    <tr style=\"text-align: right;\">\n",
       "      <th></th>\n",
       "      <th>pickups</th>\n",
       "    </tr>\n",
       "    <tr>\n",
       "      <th>borough</th>\n",
       "      <th></th>\n",
       "    </tr>\n",
       "  </thead>\n",
       "  <tbody>\n",
       "    <tr>\n",
       "      <th>Bronx</th>\n",
       "      <td>53225</td>\n",
       "    </tr>\n",
       "    <tr>\n",
       "      <th>Brooklyn</th>\n",
       "      <td>623687</td>\n",
       "    </tr>\n",
       "    <tr>\n",
       "      <th>EWR</th>\n",
       "      <td>27</td>\n",
       "    </tr>\n",
       "    <tr>\n",
       "      <th>Manhattan</th>\n",
       "      <td>3149007</td>\n",
       "    </tr>\n",
       "    <tr>\n",
       "      <th>Queens</th>\n",
       "      <td>351742</td>\n",
       "    </tr>\n",
       "    <tr>\n",
       "      <th>Staten Island</th>\n",
       "      <td>1643</td>\n",
       "    </tr>\n",
       "  </tbody>\n",
       "</table>\n",
       "</div>"
      ],
      "text/plain": [
       "               pickups\n",
       "borough               \n",
       "Bronx            53225\n",
       "Brooklyn        623687\n",
       "EWR                 27\n",
       "Manhattan      3149007\n",
       "Queens          351742\n",
       "Staten Island     1643"
      ]
     },
     "execution_count": 11,
     "metadata": {},
     "output_type": "execute_result"
    }
   ],
   "source": [
    "#Isolate snow pickups\n",
    "snow_data_df = uber_df[[\"pickup_dt\", \"borough\", \"pickups\", \"sd\"]]\n",
    "snow_df = snow_data_df[(snow_data_df[\"sd\"] > 0)]\n",
    "snow_chart_df = snow_df[[\"borough\", \"pickups\",]]\n",
    "snow_chart_df = snow_chart_df.groupby(\"borough\").agg({\"pickups\":\"sum\"}).reindex()\n",
    "snow_chart_df\n"
   ]
  },
  {
   "cell_type": "code",
   "execution_count": 12,
   "metadata": {},
   "outputs": [
    {
     "data": {
      "text/plain": [
       "70864"
      ]
     },
     "execution_count": 12,
     "metadata": {},
     "output_type": "execute_result"
    }
   ],
   "source": [
    "# Find the total and average snow pickups\n",
    "snow_df = snow_df.astype({\"pickup_dt\":\"datetime64[D]\"})\n",
    "avg_snow = snow_df.groupby(\"pickup_dt\").agg({\"pickups\": \"sum\"}).reindex()\n",
    "days_of_snow = avg_snow.count()\n",
    "total_snow = sum(avg_snow[\"pickups\"])\n",
    "avg_snow_total = total_snow/days_of_snow\n",
    "avg_snow_total = int(avg_snow_total.round(0))\n",
    "avg_snow_total"
   ]
  },
  {
   "cell_type": "code",
   "execution_count": 13,
   "metadata": {},
   "outputs": [
    {
     "data": {
      "text/html": [
       "<div>\n",
       "<style scoped>\n",
       "    .dataframe tbody tr th:only-of-type {\n",
       "        vertical-align: middle;\n",
       "    }\n",
       "\n",
       "    .dataframe tbody tr th {\n",
       "        vertical-align: top;\n",
       "    }\n",
       "\n",
       "    .dataframe thead th {\n",
       "        text-align: right;\n",
       "    }\n",
       "</style>\n",
       "<table border=\"1\" class=\"dataframe\">\n",
       "  <thead>\n",
       "    <tr style=\"text-align: right;\">\n",
       "      <th></th>\n",
       "      <th>pickups</th>\n",
       "    </tr>\n",
       "    <tr>\n",
       "      <th>borough</th>\n",
       "      <th></th>\n",
       "    </tr>\n",
       "  </thead>\n",
       "  <tbody>\n",
       "    <tr>\n",
       "      <th>Bronx</th>\n",
       "      <td>92588</td>\n",
       "    </tr>\n",
       "    <tr>\n",
       "      <th>Brooklyn</th>\n",
       "      <td>925314</td>\n",
       "    </tr>\n",
       "    <tr>\n",
       "      <th>EWR</th>\n",
       "      <td>39</td>\n",
       "    </tr>\n",
       "    <tr>\n",
       "      <th>Manhattan</th>\n",
       "      <td>3907896</td>\n",
       "    </tr>\n",
       "    <tr>\n",
       "      <th>Queens</th>\n",
       "      <td>530198</td>\n",
       "    </tr>\n",
       "    <tr>\n",
       "      <th>Staten Island</th>\n",
       "      <td>2971</td>\n",
       "    </tr>\n",
       "  </tbody>\n",
       "</table>\n",
       "</div>"
      ],
      "text/plain": [
       "               pickups\n",
       "borough               \n",
       "Bronx            92588\n",
       "Brooklyn        925314\n",
       "EWR                 39\n",
       "Manhattan      3907896\n",
       "Queens          530198\n",
       "Staten Island     2971"
      ]
     },
     "execution_count": 13,
     "metadata": {},
     "output_type": "execute_result"
    }
   ],
   "source": [
    "#Isolate pickups for no precipitation\n",
    "no_precipitation_data_df = uber_df[(uber_df[\"pcp01\"] == 0) & (uber_df[\"pcp06\"] == 0) & (uber_df[\"pcp24\"] == 0) & (uber_df[\"sd\"] == 0)]\n",
    "no_precipitation_chart_df = no_precipitation_data_df[[\"borough\", \"pickups\"]]\n",
    "no_precipitation_chart_df = no_precipitation_chart_df.groupby(\"borough\").agg({\"pickups\":\"sum\"}).reindex()\n",
    "no_precipitation_chart_df"
   ]
  },
  {
   "cell_type": "code",
   "execution_count": 14,
   "metadata": {},
   "outputs": [
    {
     "data": {
      "text/plain": [
       "47081"
      ]
     },
     "execution_count": 14,
     "metadata": {},
     "output_type": "execute_result"
    }
   ],
   "source": [
    "#Find the total and average pickups with no precipitation\n",
    "no_precipitation_data_df= no_precipitation_data_df.astype({\"pickup_dt\":\"datetime64[D]\"})\n",
    "avg_no_precipitation = no_precipitation_data_df.groupby(\"pickup_dt\").agg({\"pickups\": \"sum\"}).reindex()\n",
    "days_of_no_precipitation = avg_no_precipitation.count()\n",
    "total_no_precipitation = sum(avg_no_precipitation[\"pickups\"])\n",
    "avg_no_precipitation_total = total_no_precipitation/days_of_no_precipitation\n",
    "avg_no_precipitation_total = int(avg_no_precipitation_total.round(2))\n",
    "avg_no_precipitation_total"
   ]
  },
  {
   "cell_type": "code",
   "execution_count": 15,
   "metadata": {},
   "outputs": [
    {
     "data": {
      "image/png": "[encoded data removed]",
      "text/plain": [
       "<Figure size 1000x800 with 1 Axes>"
      ]
     },
     "metadata": {},
     "output_type": "display_data"
    }
   ],
   "source": [
    "#Create a data frame and bar chart that shows total pickups by different weather type\n",
    "total_weather = {\"Type of Weather\": [\"1 Hour Rain\", \"6 Hour Rain\", \"24 Hour Rain\", \"Snowy Weather\", \"No Precipitation\"],\n",
    "                  \"Total Pickups\": [total_short_rain, total_medium_rain, total_heavy_rain, total_snow, total_no_precipitation]\n",
    "                  }\n",
    "\n",
    "\n",
    "total_weather_df = pd.DataFrame(total_weather)\n",
    "\n",
    "x_axis = np.arange(len(total_weather_df))\n",
    "tick_locations = [value for value in x_axis]\n",
    "\n",
    "plt.figure(figsize=(10,8))\n",
    "plt.bar(x_axis, total_weather_df[\"Total Pickups\"], align=\"center\")\n",
    "plt.xticks(tick_locations, total_weather_df[\"Type of Weather\"], rotation=\"vertical\")\n",
    "plt.xlabel(\"Type of Weather\")\n",
    "plt.ylabel(\"Total Number of Pickups\")\n",
    "plt.show()\n",
    "\n"
   ]
  },
  {
   "cell_type": "code",
   "execution_count": 16,
   "metadata": {},
   "outputs": [
    {
     "data": {
      "image/png": "[encoded data removed]",
      "text/plain": [
       "<Figure size 1000x800 with 1 Axes>"
      ]
     },
     "metadata": {},
     "output_type": "display_data"
    }
   ],
   "source": [
    "#create a dataframe and bar chart that shows average pickups by different weather type\n",
    "avg_total_weather = {\"Type of Weather\": [\"1 Hour Rain\", \"6 Hour Rain\", \"24 Hour Rain\", \"Snowy Weather\", \"No Precipitation\"],\n",
    "                     \"Average Pickups\": [avg_short_rain_total, avg_medium_rain_total, avg_heavy_rain_total, avg_snow_total, avg_no_precipitation_total]\n",
    "\n",
    "}\n",
    "avg_weather_df = pd.DataFrame(avg_total_weather)\n",
    "\n",
    "x_axis = np.arange(len(avg_weather_df))\n",
    "tick_locations = [value for value in x_axis]\n",
    "\n",
    "plt.figure(figsize=(10, 8))\n",
    "plt.bar(x_axis, avg_weather_df[\"Average Pickups\"], align=\"center\")\n",
    "plt.xticks(tick_locations, avg_weather_df[\"Type of Weather\"], rotation =\"vertical\")\n",
    "plt.xlabel(\"Type of Weather\")\n",
    "plt.ylabel(\"Average Number of Pickups\")\n",
    "plt.title(\"Average Number of Pickups per Weather Type\")\n",
    "plt.show()\n"
   ]
  },
  {
   "cell_type": "code",
   "execution_count": 17,
   "metadata": {},
   "outputs": [
    {
     "data": {
      "text/html": [
       "<div>\n",
       "<style scoped>\n",
       "    .dataframe tbody tr th:only-of-type {\n",
       "        vertical-align: middle;\n",
       "    }\n",
       "\n",
       "    .dataframe tbody tr th {\n",
       "        vertical-align: top;\n",
       "    }\n",
       "\n",
       "    .dataframe thead th {\n",
       "        text-align: right;\n",
       "    }\n",
       "</style>\n",
       "<table border=\"1\" class=\"dataframe\">\n",
       "  <thead>\n",
       "    <tr style=\"text-align: right;\">\n",
       "      <th></th>\n",
       "      <th>Date of Observation</th>\n",
       "      <th>Borough</th>\n",
       "      <th>Number of Pickups</th>\n",
       "      <th>Wind Speed</th>\n",
       "      <th>Precipitaion Amount</th>\n",
       "    </tr>\n",
       "  </thead>\n",
       "  <tbody>\n",
       "    <tr>\n",
       "      <th>0</th>\n",
       "      <td>2015-01-01</td>\n",
       "      <td>Bronx</td>\n",
       "      <td>152</td>\n",
       "      <td>5.0</td>\n",
       "      <td>0.0</td>\n",
       "    </tr>\n",
       "    <tr>\n",
       "      <th>1</th>\n",
       "      <td>2015-01-01</td>\n",
       "      <td>Brooklyn</td>\n",
       "      <td>1519</td>\n",
       "      <td>5.0</td>\n",
       "      <td>0.0</td>\n",
       "    </tr>\n",
       "    <tr>\n",
       "      <th>2</th>\n",
       "      <td>2015-01-01</td>\n",
       "      <td>EWR</td>\n",
       "      <td>0</td>\n",
       "      <td>5.0</td>\n",
       "      <td>0.0</td>\n",
       "    </tr>\n",
       "    <tr>\n",
       "      <th>3</th>\n",
       "      <td>2015-01-01</td>\n",
       "      <td>Manhattan</td>\n",
       "      <td>5258</td>\n",
       "      <td>5.0</td>\n",
       "      <td>0.0</td>\n",
       "    </tr>\n",
       "    <tr>\n",
       "      <th>4</th>\n",
       "      <td>2015-01-01</td>\n",
       "      <td>Queens</td>\n",
       "      <td>405</td>\n",
       "      <td>5.0</td>\n",
       "      <td>0.0</td>\n",
       "    </tr>\n",
       "  </tbody>\n",
       "</table>\n",
       "</div>"
      ],
      "text/plain": [
       "  Date of Observation    Borough  Number of Pickups  Wind Speed  \\\n",
       "0          2015-01-01      Bronx                152         5.0   \n",
       "1          2015-01-01   Brooklyn               1519         5.0   \n",
       "2          2015-01-01        EWR                  0         5.0   \n",
       "3          2015-01-01  Manhattan               5258         5.0   \n",
       "4          2015-01-01     Queens                405         5.0   \n",
       "\n",
       "   Precipitaion Amount  \n",
       "0                  0.0  \n",
       "1                  0.0  \n",
       "2                  0.0  \n",
       "3                  0.0  \n",
       "4                  0.0  "
      ]
     },
     "execution_count": 17,
     "metadata": {},
     "output_type": "execute_result"
    }
   ],
   "source": [
    "# Does Wind Speed affect the number of pickups? How does wind with or without precipitation affect it? - Ryan\n",
    "uber_df=uber_df.astype({\"pickup_dt\":\"datetime64[D]\"})\n",
    "\n",
    "# Does Wind Speed affect the number of pickups? How does wind with or without precipitation affect it? - Ryan\n",
    "wind_df= uber_df[[\"pickup_dt\", \"borough\", \"pickups\", \"spd\", \"pcp01\"]]\n",
    "wind_df= wind_df.rename(columns={\"pickup_dt\": \"Date of Observation\"}|{\"borough\":\"Borough\"}|{\"pickups\":\"Number of Pickups\"}|{\"spd\":\"Wind Speed\"}|{\"pcp01\":\"Precipitaion Amount\"})\n",
    "\n",
    "wind_df.head()\n",
    "\n"
   ]
  },
  {
   "cell_type": "code",
   "execution_count": 18,
   "metadata": {},
   "outputs": [
    {
     "data": {
      "text/html": [
       "<div>\n",
       "<style scoped>\n",
       "    .dataframe tbody tr th:only-of-type {\n",
       "        vertical-align: middle;\n",
       "    }\n",
       "\n",
       "    .dataframe tbody tr th {\n",
       "        vertical-align: top;\n",
       "    }\n",
       "\n",
       "    .dataframe thead th {\n",
       "        text-align: right;\n",
       "    }\n",
       "</style>\n",
       "<table border=\"1\" class=\"dataframe\">\n",
       "  <thead>\n",
       "    <tr style=\"text-align: right;\">\n",
       "      <th></th>\n",
       "      <th>Number of Pickups</th>\n",
       "      <th>Wind Speed</th>\n",
       "    </tr>\n",
       "    <tr>\n",
       "      <th>Date of Observation</th>\n",
       "      <th></th>\n",
       "      <th></th>\n",
       "    </tr>\n",
       "  </thead>\n",
       "  <tbody>\n",
       "    <tr>\n",
       "      <th>2015-01-01</th>\n",
       "      <td>54671</td>\n",
       "      <td>6.065359</td>\n",
       "    </tr>\n",
       "    <tr>\n",
       "      <th>2015-01-02</th>\n",
       "      <td>39668</td>\n",
       "      <td>7.582278</td>\n",
       "    </tr>\n",
       "    <tr>\n",
       "      <th>2015-01-03</th>\n",
       "      <td>59244</td>\n",
       "      <td>6.243438</td>\n",
       "    </tr>\n",
       "    <tr>\n",
       "      <th>2015-01-04</th>\n",
       "      <td>43230</td>\n",
       "      <td>5.645541</td>\n",
       "    </tr>\n",
       "    <tr>\n",
       "      <th>2015-01-05</th>\n",
       "      <td>43591</td>\n",
       "      <td>10.898089</td>\n",
       "    </tr>\n",
       "  </tbody>\n",
       "</table>\n",
       "</div>"
      ],
      "text/plain": [
       "                     Number of Pickups  Wind Speed\n",
       "Date of Observation                               \n",
       "2015-01-01                       54671    6.065359\n",
       "2015-01-02                       39668    7.582278\n",
       "2015-01-03                       59244    6.243438\n",
       "2015-01-04                       43230    5.645541\n",
       "2015-01-05                       43591   10.898089"
      ]
     },
     "execution_count": 18,
     "metadata": {},
     "output_type": "execute_result"
    }
   ],
   "source": [
    "#toatl number of pickups and average wind speed per date\n",
    "\n",
    "converted_wind_df= wind_df[[\"Borough\", \"Number of Pickups\", \"Wind Speed\", \"Precipitaion Amount\", \"Date of Observation\"]]\n",
    "converted_wind_df= converted_wind_df.groupby(\"Date of Observation\").agg({\"Number of Pickups\": \"sum\", \"Wind Speed\": \"mean\"}).reindex()\n",
    "converted_wind_df.head()"
   ]
  },
  {
   "cell_type": "code",
   "execution_count": 19,
   "metadata": {},
   "outputs": [
    {
     "name": "stdout",
     "output_type": "stream",
     "text": [
      "The r-value is: -0.22577964333481676\n"
     ]
    },
    {
     "data": {
      "image/png": "[encoded data removed]",
      "text/plain": [
       "<Figure size 640x480 with 1 Axes>"
      ]
     },
     "metadata": {},
     "output_type": "display_data"
    }
   ],
   "source": [
    "#plt.scatter(converted_wind_df[\"Wind Speed\"], converted_wind_df[\"Number of Pickups\"], edgecolors= \"black\", marker=\"o\")\n",
    "x_values= converted_wind_df[\"Wind Speed\"]\n",
    "y_values= converted_wind_df[\"Number of Pickups\"]\n",
    "\n",
    "(slope, intercept, rvalue, pvalue, stderr) = linregress(x_values,y_values)\n",
    "regress_values = x_values * slope + intercept\n",
    "line_eq = \"y = \" + str(round(slope,2)) + \"x + \" + str(round(intercept,2))\n",
    "\n",
    "# Incorporate the other graph properties\n",
    "plt.scatter(x_values,y_values)\n",
    "plt.plot(x_values,regress_values,\"r-\")\n",
    "plt.annotate(line_eq,(3,30000),fontsize=15,color=\"red\")\n",
    "plt.title(\"NYC Number of Pickups per day Vs Avg Wind Speed per day (01/01/2015-06/30/2015)\")\n",
    "plt.ylabel(\"Number of Pickups\")\n",
    "plt.xlabel(\"Avg Wind Speed (m/s)\")\n",
    "plt.grid(True, alpha= 0.5)\n",
    "print(f\"The r-value is: {rvalue}\")\n",
    "\n",
    "\n",
    "# Save the figure\n",
    "#plt.savefig(\"output_data/Fig1.png\")\n",
    "\n",
    "# Show plot\n",
    "plt.show()"
   ]
  },
  {
   "cell_type": "code",
   "execution_count": 20,
   "metadata": {},
   "outputs": [
    {
     "data": {
      "text/html": [
       "<div>\n",
       "<style scoped>\n",
       "    .dataframe tbody tr th:only-of-type {\n",
       "        vertical-align: middle;\n",
       "    }\n",
       "\n",
       "    .dataframe tbody tr th {\n",
       "        vertical-align: top;\n",
       "    }\n",
       "\n",
       "    .dataframe thead th {\n",
       "        text-align: right;\n",
       "    }\n",
       "</style>\n",
       "<table border=\"1\" class=\"dataframe\">\n",
       "  <thead>\n",
       "    <tr style=\"text-align: right;\">\n",
       "      <th></th>\n",
       "      <th>Number of Pickups</th>\n",
       "    </tr>\n",
       "    <tr>\n",
       "      <th>Date of Observation</th>\n",
       "      <th></th>\n",
       "    </tr>\n",
       "  </thead>\n",
       "  <tbody>\n",
       "    <tr>\n",
       "      <th>2015-01-01</th>\n",
       "      <td>54671</td>\n",
       "    </tr>\n",
       "    <tr>\n",
       "      <th>2015-01-02</th>\n",
       "      <td>39668</td>\n",
       "    </tr>\n",
       "    <tr>\n",
       "      <th>2015-01-03</th>\n",
       "      <td>59244</td>\n",
       "    </tr>\n",
       "    <tr>\n",
       "      <th>2015-01-04</th>\n",
       "      <td>43230</td>\n",
       "    </tr>\n",
       "    <tr>\n",
       "      <th>2015-01-05</th>\n",
       "      <td>43591</td>\n",
       "    </tr>\n",
       "  </tbody>\n",
       "</table>\n",
       "</div>"
      ],
      "text/plain": [
       "                     Number of Pickups\n",
       "Date of Observation                   \n",
       "2015-01-01                       54671\n",
       "2015-01-02                       39668\n",
       "2015-01-03                       59244\n",
       "2015-01-04                       43230\n",
       "2015-01-05                       43591"
      ]
     },
     "execution_count": 20,
     "metadata": {},
     "output_type": "execute_result"
    }
   ],
   "source": [
    "#How does the real feel temperature effect the totoal number of pickups?\n",
    "\n",
    "#Create DF from uber data showing total number of pickups per day\n",
    "\n",
    "pickup_df= uber_df[[\"pickup_dt\", \"pickups\"]]\n",
    "pickup_df=pickup_df.rename(columns={\"pickup_dt\": \"Date of Observation\"}|{\"pickups\":\"Number of Pickups\"})\n",
    "pickup_df=pickup_df.groupby(\"Date of Observation\").agg({\"Number of Pickups\": \"sum\"}).reindex()\n",
    "pickup_df.head()"
   ]
  },
  {
   "cell_type": "code",
   "execution_count": 21,
   "metadata": {},
   "outputs": [
    {
     "data": {
      "text/html": [
       "<div>\n",
       "<style scoped>\n",
       "    .dataframe tbody tr th:only-of-type {\n",
       "        vertical-align: middle;\n",
       "    }\n",
       "\n",
       "    .dataframe tbody tr th {\n",
       "        vertical-align: top;\n",
       "    }\n",
       "\n",
       "    .dataframe thead th {\n",
       "        text-align: right;\n",
       "    }\n",
       "</style>\n",
       "<table border=\"1\" class=\"dataframe\">\n",
       "  <thead>\n",
       "    <tr style=\"text-align: right;\">\n",
       "      <th></th>\n",
       "      <th>Date of Observation</th>\n",
       "      <th>Feels Like Temperature(C)</th>\n",
       "    </tr>\n",
       "  </thead>\n",
       "  <tbody>\n",
       "    <tr>\n",
       "      <th>0</th>\n",
       "      <td>2015-01-01</td>\n",
       "      <td>25.6</td>\n",
       "    </tr>\n",
       "    <tr>\n",
       "      <th>1</th>\n",
       "      <td>2015-01-02</td>\n",
       "      <td>32.2</td>\n",
       "    </tr>\n",
       "    <tr>\n",
       "      <th>2</th>\n",
       "      <td>2015-01-03</td>\n",
       "      <td>30.2</td>\n",
       "    </tr>\n",
       "    <tr>\n",
       "      <th>3</th>\n",
       "      <td>2015-01-04</td>\n",
       "      <td>46.6</td>\n",
       "    </tr>\n",
       "    <tr>\n",
       "      <th>4</th>\n",
       "      <td>2015-01-05</td>\n",
       "      <td>27.8</td>\n",
       "    </tr>\n",
       "  </tbody>\n",
       "</table>\n",
       "</div>"
      ],
      "text/plain": [
       "  Date of Observation  Feels Like Temperature(C)\n",
       "0          2015-01-01                       25.6\n",
       "1          2015-01-02                       32.2\n",
       "2          2015-01-03                       30.2\n",
       "3          2015-01-04                       46.6\n",
       "4          2015-01-05                       27.8"
      ]
     },
     "execution_count": 21,
     "metadata": {},
     "output_type": "execute_result"
    }
   ],
   "source": [
    "#Create DF from API for datetime and feels like temp\n",
    "\n",
    "weather_df=weather_df[[\"datetime\", \"feelslike\"]]\n",
    "weather_df=weather_df.rename(columns={\"datetime\": \"Date of Observation\"}|{\"feelslike\":\"Feels Like Temperature(C)\"})\n",
    "weather_df=weather_df.astype({\"Date of Observation\":\"datetime64[D]\"})\n",
    "weather_df.head()"
   ]
  },
  {
   "cell_type": "code",
   "execution_count": 22,
   "metadata": {},
   "outputs": [
    {
     "data": {
      "text/html": [
       "<div>\n",
       "<style scoped>\n",
       "    .dataframe tbody tr th:only-of-type {\n",
       "        vertical-align: middle;\n",
       "    }\n",
       "\n",
       "    .dataframe tbody tr th {\n",
       "        vertical-align: top;\n",
       "    }\n",
       "\n",
       "    .dataframe thead th {\n",
       "        text-align: right;\n",
       "    }\n",
       "</style>\n",
       "<table border=\"1\" class=\"dataframe\">\n",
       "  <thead>\n",
       "    <tr style=\"text-align: right;\">\n",
       "      <th></th>\n",
       "      <th>Date of Observation</th>\n",
       "      <th>Number of Pickups</th>\n",
       "      <th>Feels Like Temperature(C)</th>\n",
       "    </tr>\n",
       "  </thead>\n",
       "  <tbody>\n",
       "    <tr>\n",
       "      <th>0</th>\n",
       "      <td>2015-01-01</td>\n",
       "      <td>54671</td>\n",
       "      <td>25.6</td>\n",
       "    </tr>\n",
       "    <tr>\n",
       "      <th>1</th>\n",
       "      <td>2015-01-02</td>\n",
       "      <td>39668</td>\n",
       "      <td>32.2</td>\n",
       "    </tr>\n",
       "    <tr>\n",
       "      <th>2</th>\n",
       "      <td>2015-01-03</td>\n",
       "      <td>59244</td>\n",
       "      <td>30.2</td>\n",
       "    </tr>\n",
       "    <tr>\n",
       "      <th>3</th>\n",
       "      <td>2015-01-04</td>\n",
       "      <td>43230</td>\n",
       "      <td>46.6</td>\n",
       "    </tr>\n",
       "    <tr>\n",
       "      <th>4</th>\n",
       "      <td>2015-01-05</td>\n",
       "      <td>43591</td>\n",
       "      <td>27.8</td>\n",
       "    </tr>\n",
       "  </tbody>\n",
       "</table>\n",
       "</div>"
      ],
      "text/plain": [
       "  Date of Observation  Number of Pickups  Feels Like Temperature(C)\n",
       "0          2015-01-01              54671                       25.6\n",
       "1          2015-01-02              39668                       32.2\n",
       "2          2015-01-03              59244                       30.2\n",
       "3          2015-01-04              43230                       46.6\n",
       "4          2015-01-05              43591                       27.8"
      ]
     },
     "execution_count": 22,
     "metadata": {},
     "output_type": "execute_result"
    }
   ],
   "source": [
    "#Merging weather_df from API and pickup_df from our Dataset to see the number of rides per day vs the feels like temp\n",
    "nyc_merge_df= pd.merge(pickup_df, weather_df, on='Date of Observation', how='inner')\n",
    "nyc_merge_df.head()\n"
   ]
  },
  {
   "cell_type": "code",
   "execution_count": 23,
   "metadata": {},
   "outputs": [
    {
     "name": "stdout",
     "output_type": "stream",
     "text": [
      "The r-value is: 0.3642127572146948\n"
     ]
    },
    {
     "data": {
      "image/png": "[encoded data removed]",
      "text/plain": [
       "<Figure size 640x480 with 1 Axes>"
      ]
     },
     "metadata": {},
     "output_type": "display_data"
    }
   ],
   "source": [
    "#Create plot showing relationship between number of pickups and feels like temp\n",
    "x_values= nyc_merge_df[\"Feels Like Temperature(C)\"]\n",
    "y_values= nyc_merge_df[\"Number of Pickups\"]\n",
    "\n",
    "(slope, intercept, rvalue, pvalue, stderr) = linregress(x_values,y_values)\n",
    "regress_values = x_values * slope + intercept\n",
    "line_eq = \"y = \" + str(round(slope,2)) + \"x + \" + str(round(intercept,2))\n",
    "\n",
    "# Incorporate the other graph properties\n",
    "plt.scatter(x_values,y_values)\n",
    "plt.plot(x_values,regress_values,\"r-\")\n",
    "plt.annotate(line_eq,(3,30000),fontsize=15,color=\"red\")\n",
    "plt.title(\"NYC Number of Pickups per day Vs Feels Like Temperature(C) per day (01/01/2015-06/30/2015)\")\n",
    "plt.ylabel(\"Number of Pickups\")\n",
    "plt.xlabel(\"Feels Like Temperature(C)\")\n",
    "plt.grid(True, alpha= 0.5)\n",
    "print(f\"The r-value is: {rvalue}\")\n",
    "\n",
    "\n",
    "# Save the figure\n",
    "#plt.savefig(\"output_data/Fig1.png\")\n",
    "\n",
    "# Show plot\n",
    "plt.show()"
   ]
  },
  {
   "cell_type": "code",
   "execution_count": 24,
   "metadata": {},
   "outputs": [
    {
     "data": {
      "text/plain": [
       "<bound method NDFrame.head of                Number of Pickups\n",
       "NYC Borough                     \n",
       "Bronx                     220047\n",
       "Brooklyn                 2321035\n",
       "EWR                          105\n",
       "Manhattan               10367841\n",
       "Queens                   1343528\n",
       "Staten Island               6957>"
      ]
     },
     "execution_count": 24,
     "metadata": {},
     "output_type": "execute_result"
    }
   ],
   "source": [
    "#Does different boroughs? Ryan\n",
    "#How do the different borughs compare with pickups?\n",
    "borough_df= uber_df[[\"borough\", \"pickups\"]]\n",
    "borough_df= borough_df.rename(columns={\"borough\": \"NYC Borough\"}|{\"pickups\":\"Number of Pickups\"})\n",
    "borough_df= borough_df.groupby(\"NYC Borough\").agg({\"Number of Pickups\": \"sum\"}).reindex()\n",
    "borough_df.head"
   ]
  },
  {
   "cell_type": "code",
   "execution_count": 25,
   "metadata": {},
   "outputs": [
    {
     "data": {
      "image/png": "[encoded data removed]",
      "text/plain": [
       "<Figure size 800x600 with 1 Axes>"
      ]
     },
     "metadata": {},
     "output_type": "display_data"
    }
   ],
   "source": [
    "#Plot to show the total pickups in each Borough\n",
    "figure1 = borough_df.plot(kind=\"bar\", facecolor=\"red\", figsize=(8,6),\n",
    "                                title=\"Total Number of Pickups per Borough (01/01/2015-06/30/2015)\",\n",
    "                                xlabel=\"NYC Borough\",\n",
    "                                ylabel=\"Number of Pickups\")\n",
    "\n",
    "# Configure x-tick rotation\n",
    "xticklabels = borough_df.index\n",
    "figure1.set_xticklabels(xticklabels, rotation=45, rotation_mode=\"anchor\", ha=\"right\", wrap=True)\n",
    "\n",
    "\n",
    "plt.show()"
   ]
  },
  {
   "cell_type": "code",
   "execution_count": 26,
   "metadata": {},
   "outputs": [],
   "source": [
    "# Time of day effect pickups? - Fidel"
   ]
  },
  {
   "cell_type": "code",
   "execution_count": 27,
   "metadata": {},
   "outputs": [],
   "source": [
    "#Difference in Weekdays vs Weekends? - James"
   ]
  },
  {
   "cell_type": "code",
   "execution_count": 28,
   "metadata": {},
   "outputs": [],
   "source": [
    "#How do Holidays affect pickups? - Fidel Carillo Average holiday pickups vs non holiday with rain and vs non holiday without Difference in Holiday pickups? - Fidel"
   ]
  },
  {
   "cell_type": "code",
   "execution_count": 29,
   "metadata": {},
   "outputs": [],
   "source": [
    "# Correlation and Regression"
   ]
  },
  {
   "attachments": {},
   "cell_type": "markdown",
   "metadata": {},
   "source": [
    "## Analysis"
   ]
  }
 ],
 "metadata": {
  "kernelspec": {
   "display_name": "dev",
   "language": "python",
   "name": "python3"
  },
  "language_info": {
   "codemirror_mode": {
    "name": "ipython",
    "version": 3
   },
   "file_extension": ".py",
   "mimetype": "text/x-python",
   "name": "python",
   "nbconvert_exporter": "python",
   "pygments_lexer": "ipython3",
   "version": "3.10.11"
  },
  "orig_nbformat": 4
 },
 "nbformat": 4,
 "nbformat_minor": 2
}
